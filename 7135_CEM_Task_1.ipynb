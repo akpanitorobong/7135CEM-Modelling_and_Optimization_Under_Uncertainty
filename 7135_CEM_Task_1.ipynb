{
  "nbformat": 4,
  "nbformat_minor": 0,
  "metadata": {
    "colab": {
      "provenance": [],
      "collapsed_sections": [
        "a0SdIci-b_-K",
        "r-upy-Mzb8N2",
        "4Qmn0gyTc2rU",
        "qC4W3SwleZYJ",
        "bPjP_byokQR5",
        "KjoKh9fJf_A-",
        "J6_2WeeGgv3_",
        "tKJG6GneilWx",
        "M3NCO7XRit7M",
        "5c33wd7Di5Zk",
        "dzitIg-yjShl",
        "LffFcEp0jZSb",
        "ncLiLqPpuQVQ"
      ],
      "authorship_tag": "ABX9TyOFLQ/AE2REfgwFSjlByOIr",
      "include_colab_link": true
    },
    "kernelspec": {
      "name": "python3",
      "display_name": "Python 3"
    },
    "language_info": {
      "name": "python"
    }
  },
  "cells": [
    {
      "cell_type": "markdown",
      "metadata": {
        "id": "view-in-github",
        "colab_type": "text"
      },
      "source": [
        "<a href=\"https://colab.research.google.com/github/akpanitorobong/7135CEM-Modelling_and_Optimization_Under_Uncertainty/blob/main/7135_CEM_Task_1.ipynb\" target=\"_parent\"><img src=\"https://colab.research.google.com/assets/colab-badge.svg\" alt=\"Open In Colab\"/></a>"
      ]
    },
    {
      "cell_type": "markdown",
      "source": [
        "# **Install Libraries**"
      ],
      "metadata": {
        "id": "a0SdIci-b_-K"
      }
    },
    {
      "cell_type": "code",
      "execution_count": 8,
      "metadata": {
        "colab": {
          "base_uri": "https://localhost:8080/"
        },
        "id": "vphzyQ0KPltT",
        "outputId": "cad157e2-a313-4ef0-d893-65d777006c3d"
      },
      "outputs": [
        {
          "output_type": "stream",
          "name": "stdout",
          "text": [
            "Installing Libraries...\n",
            "Requirement already satisfied: ucimlrepo in /usr/local/lib/python3.11/dist-packages (0.0.7)\n",
            "Requirement already satisfied: pandas>=1.0.0 in /usr/local/lib/python3.11/dist-packages (from ucimlrepo) (2.2.2)\n",
            "Requirement already satisfied: certifi>=2020.12.5 in /usr/local/lib/python3.11/dist-packages (from ucimlrepo) (2025.1.31)\n",
            "Requirement already satisfied: numpy>=1.23.2 in /usr/local/lib/python3.11/dist-packages (from pandas>=1.0.0->ucimlrepo) (2.0.2)\n",
            "Requirement already satisfied: python-dateutil>=2.8.2 in /usr/local/lib/python3.11/dist-packages (from pandas>=1.0.0->ucimlrepo) (2.8.2)\n",
            "Requirement already satisfied: pytz>=2020.1 in /usr/local/lib/python3.11/dist-packages (from pandas>=1.0.0->ucimlrepo) (2025.1)\n",
            "Requirement already satisfied: tzdata>=2022.7 in /usr/local/lib/python3.11/dist-packages (from pandas>=1.0.0->ucimlrepo) (2025.1)\n",
            "Requirement already satisfied: six>=1.5 in /usr/local/lib/python3.11/dist-packages (from python-dateutil>=2.8.2->pandas>=1.0.0->ucimlrepo) (1.17.0)\n",
            "Libraries imported successfully!\n"
          ]
        }
      ],
      "source": [
        "print(\"Installing Libraries...\")\n",
        "\n",
        "# Install necessary packages\n",
        "!pip install ucimlrepo  # For dataset handling\n",
        "\n",
        "# Import required libraries\n",
        "import pandas as pd  # For data manipulation\n",
        "import numpy as np  # For numerical operations\n",
        "import matplotlib.pyplot as plt  # For data visualization\n",
        "import seaborn as sns  # Enhanced visualization\n",
        "import time\n",
        "from ucimlrepo import fetch_ucirepo # For dataset import\n",
        "from imblearn.under_sampling import RandomUnderSampler\n",
        "from sklearn.preprocessing import StandardScaler\n",
        "from sklearn.model_selection import train_test_split, cross_val_score\n",
        "from sklearn.preprocessing import StandardScaler\n",
        "from sklearn.utils import resample\n",
        "from sklearn.gaussian_process import GaussianProcessClassifier\n",
        "from sklearn.linear_model import LogisticRegression\n",
        "from sklearn.ensemble import RandomForestClassifier\n",
        "from sklearn.svm import SVC\n",
        "from sklearn.ensemble import GradientBoostingClassifier\n",
        "#hyperparameter tuning\n",
        "from sklearn.model_selection import GridSearchCV, RandomizedSearchCV\n",
        "\n",
        "# Evaluation metrics\n",
        "from sklearn.metrics import accuracy_score, precision_score, recall_score, f1_score, roc_auc_score, classification_report, confusion_matrix\n",
        "\n",
        "print(\"Libraries imported successfully!\")"
      ]
    },
    {
      "cell_type": "markdown",
      "source": [
        "# **Load and Inspect Dataset**"
      ],
      "metadata": {
        "id": "r-upy-Mzb8N2"
      }
    },
    {
      "cell_type": "code",
      "source": [
        "print(\"Loading dataset...\")\n",
        "# fetch dataset\n",
        "cdc_diabetes_health_indicators = fetch_ucirepo(id=891)\n",
        "\n",
        "# data (as pandas dataframes)\n",
        "X = cdc_diabetes_health_indicators.data.features\n",
        "y = cdc_diabetes_health_indicators.data.targets\n",
        "df = pd.concat([X, y], axis=1)\n",
        "df.to_csv('diabetes_health_indicators.csv', index=False)\n",
        "print(\"Dataset loaded successfully.\")\n",
        "# Display basic information and the first few rows\n",
        "df.info(), df.head()"
      ],
      "metadata": {
        "colab": {
          "base_uri": "https://localhost:8080/"
        },
        "id": "GO4jJi8vUvEf",
        "outputId": "b1cb7e88-bac1-4ba6-c75d-247df60647c1"
      },
      "execution_count": 9,
      "outputs": [
        {
          "output_type": "stream",
          "name": "stdout",
          "text": [
            "Loading dataset...\n",
            "Dataset loaded successfully.\n",
            "<class 'pandas.core.frame.DataFrame'>\n",
            "RangeIndex: 253680 entries, 0 to 253679\n",
            "Data columns (total 22 columns):\n",
            " #   Column                Non-Null Count   Dtype\n",
            "---  ------                --------------   -----\n",
            " 0   HighBP                253680 non-null  int64\n",
            " 1   HighChol              253680 non-null  int64\n",
            " 2   CholCheck             253680 non-null  int64\n",
            " 3   BMI                   253680 non-null  int64\n",
            " 4   Smoker                253680 non-null  int64\n",
            " 5   Stroke                253680 non-null  int64\n",
            " 6   HeartDiseaseorAttack  253680 non-null  int64\n",
            " 7   PhysActivity          253680 non-null  int64\n",
            " 8   Fruits                253680 non-null  int64\n",
            " 9   Veggies               253680 non-null  int64\n",
            " 10  HvyAlcoholConsump     253680 non-null  int64\n",
            " 11  AnyHealthcare         253680 non-null  int64\n",
            " 12  NoDocbcCost           253680 non-null  int64\n",
            " 13  GenHlth               253680 non-null  int64\n",
            " 14  MentHlth              253680 non-null  int64\n",
            " 15  PhysHlth              253680 non-null  int64\n",
            " 16  DiffWalk              253680 non-null  int64\n",
            " 17  Sex                   253680 non-null  int64\n",
            " 18  Age                   253680 non-null  int64\n",
            " 19  Education             253680 non-null  int64\n",
            " 20  Income                253680 non-null  int64\n",
            " 21  Diabetes_binary       253680 non-null  int64\n",
            "dtypes: int64(22)\n",
            "memory usage: 42.6 MB\n"
          ]
        },
        {
          "output_type": "execute_result",
          "data": {
            "text/plain": [
              "(None,\n",
              "    HighBP  HighChol  CholCheck  BMI  Smoker  Stroke  HeartDiseaseorAttack  \\\n",
              " 0       1         1          1   40       1       0                     0   \n",
              " 1       0         0          0   25       1       0                     0   \n",
              " 2       1         1          1   28       0       0                     0   \n",
              " 3       1         0          1   27       0       0                     0   \n",
              " 4       1         1          1   24       0       0                     0   \n",
              " \n",
              "    PhysActivity  Fruits  Veggies  ...  NoDocbcCost  GenHlth  MentHlth  \\\n",
              " 0             0       0        1  ...            0        5        18   \n",
              " 1             1       0        0  ...            1        3         0   \n",
              " 2             0       1        0  ...            1        5        30   \n",
              " 3             1       1        1  ...            0        2         0   \n",
              " 4             1       1        1  ...            0        2         3   \n",
              " \n",
              "    PhysHlth  DiffWalk  Sex  Age  Education  Income  Diabetes_binary  \n",
              " 0        15         1    0    9          4       3                0  \n",
              " 1         0         0    0    7          6       1                0  \n",
              " 2        30         1    0    9          4       8                0  \n",
              " 3         0         0    0   11          3       6                0  \n",
              " 4         0         0    0   11          5       4                0  \n",
              " \n",
              " [5 rows x 22 columns])"
            ]
          },
          "metadata": {},
          "execution_count": 9
        }
      ]
    },
    {
      "cell_type": "markdown",
      "source": [
        "# **Preprocessing**"
      ],
      "metadata": {
        "id": "4Qmn0gyTc2rU"
      }
    },
    {
      "cell_type": "code",
      "source": [
        "# Remove unnecessary column\n",
        "if \"Unnamed: 0\" in df.columns:\n",
        "    df.drop(columns=[\"Unnamed: 0\"], inplace=True)\n",
        "\n",
        "# Check for and remove duplicate rows\n",
        "no_of_duplicates = df.duplicated().sum()\n",
        "df = df.drop_duplicates()\n",
        "print(f\"Number of duplicate rows removed: {no_of_duplicates}\")"
      ],
      "metadata": {
        "colab": {
          "base_uri": "https://localhost:8080/"
        },
        "id": "cDvJ4q3yct0g",
        "outputId": "fffa6f6d-2ab6-4f85-8fe9-c85caa808370"
      },
      "execution_count": 10,
      "outputs": [
        {
          "output_type": "stream",
          "name": "stdout",
          "text": [
            "Number of duplicate rows removed: 24206\n"
          ]
        }
      ]
    },
    {
      "cell_type": "markdown",
      "source": [
        "# **Class Balancing**"
      ],
      "metadata": {
        "id": "qC4W3SwleZYJ"
      }
    },
    {
      "cell_type": "code",
      "source": [
        "# Define target variable\n",
        "target_col = \"Diabetes_binary\"\n",
        "X = df.drop(columns=[target_col])  # Features\n",
        "y = df[target_col]  # Target variable\n",
        "\n",
        "# Check class distribution\n",
        "class_counts = y.value_counts()\n",
        "print(\"Class Distribution:\")\n",
        "print(class_counts,\"\\n\")\n",
        "\n",
        "# Apply Random Undersampling to balance the dataset\n",
        "undersampler = RandomUnderSampler(random_state=42)\n",
        "X_resampled, y_resampled = undersampler.fit_resample(X, y)\n",
        "\n",
        "# Convert back to DataFrame\n",
        "df_balanced = pd.DataFrame(X_resampled, columns=X.columns)\n",
        "df_balanced[target_col] = y_resampled  # Add the target column back\n",
        "\n",
        "print(\"Dataset balanced using Random Undersampling. \\nNew class distribution:\")\n",
        "print(df_balanced[target_col].value_counts())"
      ],
      "metadata": {
        "colab": {
          "base_uri": "https://localhost:8080/"
        },
        "id": "ZgGyRTcleT0d",
        "outputId": "50aab603-b0f0-45a0-c114-9bd4fd3ffb0b"
      },
      "execution_count": 11,
      "outputs": [
        {
          "output_type": "stream",
          "name": "stdout",
          "text": [
            "Class Distribution:\n",
            "Diabetes_binary\n",
            "0    194377\n",
            "1     35097\n",
            "Name: count, dtype: int64 \n",
            "\n",
            "Dataset balanced using Random Undersampling. \n",
            "New class distribution:\n",
            "Diabetes_binary\n",
            "0    35097\n",
            "1    35097\n",
            "Name: count, dtype: int64\n"
          ]
        }
      ]
    },
    {
      "cell_type": "markdown",
      "source": [
        "# **Gaussian Process Dataset Sampling (due to computational needs)**"
      ],
      "metadata": {
        "id": "bPjP_byokQR5"
      }
    },
    {
      "cell_type": "code",
      "source": [
        "gaussian_class_count = 5000  # Adjust based on available memory\n",
        "df_majority = df_balanced[df_balanced[\"Diabetes_binary\"] == 0].sample(n=gaussian_class_count, random_state=42, replace = True)\n",
        "df_minority = df_balanced[df_balanced[\"Diabetes_binary\"] == 1].sample(n=gaussian_class_count, random_state=42, replace = True)\n",
        "df_gaussian = pd.concat([df_majority, df_minority]).sample(frac=1, random_state=42)\n",
        "print(f\"Data for Gaussian Process is sampled to {gaussian_class_count} rows per class.\")"
      ],
      "metadata": {
        "colab": {
          "base_uri": "https://localhost:8080/"
        },
        "id": "hHza3jpwkVPn",
        "outputId": "3f5ba0a2-c8ef-4814-af7e-88c3fa1679d5"
      },
      "execution_count": 12,
      "outputs": [
        {
          "output_type": "stream",
          "name": "stdout",
          "text": [
            "Data for Gaussian Process is sampled to 5000 rows per class.\n"
          ]
        }
      ]
    },
    {
      "cell_type": "markdown",
      "source": [
        "# **Data Normalization**"
      ],
      "metadata": {
        "id": "KjoKh9fJf_A-"
      }
    },
    {
      "cell_type": "code",
      "source": [
        "# Identify numerical columns (excluding categorical features)\n",
        "num_cols = [\"BMI\", \"MentHlth\", \"PhysHlth\", \"Age\", \"Education\", \"Income\"]\n",
        "\n",
        "# Standardize numerical features\n",
        "scaler = StandardScaler()\n",
        "df_balanced[num_cols] = scaler.fit_transform(df_balanced[num_cols])\n",
        "\n",
        "print(\"Numerical features standardized.\")\n",
        "print(\"rows affected: \", num_cols)"
      ],
      "metadata": {
        "colab": {
          "base_uri": "https://localhost:8080/"
        },
        "id": "sXzNyX_Kf864",
        "outputId": "6452b199-589d-4a52-aa4c-f40d4fb81a78"
      },
      "execution_count": null,
      "outputs": [
        {
          "output_type": "stream",
          "name": "stdout",
          "text": [
            "Numerical features standardized.\n",
            "rows affected:  ['BMI', 'MentHlth', 'PhysHlth', 'Age', 'Education', 'Income']\n"
          ]
        }
      ]
    },
    {
      "cell_type": "markdown",
      "source": [
        "# **Principal Component Analysis**"
      ],
      "metadata": {
        "id": "L5_RsNBw0gwS"
      }
    },
    {
      "cell_type": "code",
      "source": [],
      "metadata": {
        "id": "yWQwOy-W0rrj"
      },
      "execution_count": null,
      "outputs": []
    },
    {
      "cell_type": "markdown",
      "source": [
        "# **Visualization**"
      ],
      "metadata": {
        "id": "J6_2WeeGgv3_"
      }
    },
    {
      "cell_type": "code",
      "source": [
        " # Plot class distribution after balancing\n",
        "plt.figure(figsize=(6, 4))\n",
        "sns.barplot(x=df_balanced[target_col].value_counts().index,\n",
        "            y=df_balanced[target_col].value_counts().values,\n",
        "            palette=\"viridis\", hue = df_balanced[target_col].value_counts().index)\n",
        "plt.xlabel(\"Diabetes Class (0 = No Diabetes, 1 = Diabetes)\")\n",
        "plt.ylabel(\"Number of Samples\")\n",
        "plt.title(\"Class Distribution After Undersampling\")\n",
        "plt.show()\n",
        "\n",
        "# Display the first few rows of the cleaned and processed dataset\n",
        "df_balanced.head()"
      ],
      "metadata": {
        "colab": {
          "base_uri": "https://localhost:8080/",
          "height": 648
        },
        "id": "a2OtNphAekkh",
        "outputId": "cbd92373-ae44-44eb-b4a1-bf4c02c0a56a"
      },
      "execution_count": null,
      "outputs": [
        {
          "output_type": "display_data",
          "data": {
            "text/plain": [
              "<Figure size 600x400 with 1 Axes>"
            ],
            "image/png": "[encoded data removed]"
          },
          "metadata": {}
        },
        {
          "output_type": "execute_result",
          "data": {
            "text/plain": [
              "        HighBP  HighChol  CholCheck       BMI  Smoker  Stroke  \\\n",
              "95413        1         1          1 -0.138886       0       0   \n",
              "248839       1         1          1 -0.828901       0       0   \n",
              "115962       1         1          1 -1.242909       0       0   \n",
              "83044        0         0          1 -0.690898       0       0   \n",
              "108231       0         0          1 -0.828901       1       1   \n",
              "\n",
              "        HeartDiseaseorAttack  PhysActivity  Fruits  Veggies  ...  NoDocbcCost  \\\n",
              "95413                      0             1       1        1  ...            0   \n",
              "248839                     0             1       1        1  ...            0   \n",
              "115962                     0             1       0        1  ...            0   \n",
              "83044                      0             1       1        1  ...            0   \n",
              "108231                     0             1       1        1  ...            0   \n",
              "\n",
              "        GenHlth  MentHlth  PhysHlth  DiffWalk  Sex       Age  Education  \\\n",
              "95413         2 -0.483194 -0.602516         0    1 -0.575079   1.095084   \n",
              "248839        5  0.353858 -0.020075         0    0  0.473060   1.095084   \n",
              "115962        2 -0.483194 -0.602516         0    1 -1.972597   1.095084   \n",
              "83044         3 -0.483194 -0.602516         0    1 -1.623217  -0.842946   \n",
              "108231        2 -0.483194 -0.602516         1    1  0.473060   1.095084   \n",
              "\n",
              "          Income  Diabetes_binary  \n",
              "95413   1.114489                1  \n",
              "248839  0.194564                0  \n",
              "115962  1.114489                0  \n",
              "83044  -1.185323                0  \n",
              "108231 -0.725361                0  \n",
              "\n",
              "[5 rows x 22 columns]"
            ],
            "text/html": [
              "\n",
              "  <div id=\"df-cd4e460e-bf56-4f72-8e3b-851aaa792100\" class=\"colab-df-container\">\n",
              "    <div>\n",
              "<style scoped>\n",
              "    .dataframe tbody tr th:only-of-type {\n",
              "        vertical-align: middle;\n",
              "    }\n",
              "\n",
              "    .dataframe tbody tr th {\n",
              "        vertical-align: top;\n",
              "    }\n",
              "\n",
              "    .dataframe thead th {\n",
              "        text-align: right;\n",
              "    }\n",
              "</style>\n",
              "<table border=\"1\" class=\"dataframe\">\n",
              "  <thead>\n",
              "    <tr style=\"text-align: right;\">\n",
              "      <th></th>\n",
              "      <th>HighBP</th>\n",
              "      <th>HighChol</th>\n",
              "      <th>CholCheck</th>\n",
              "      <th>BMI</th>\n",
              "      <th>Smoker</th>\n",
              "      <th>Stroke</th>\n",
              "      <th>HeartDiseaseorAttack</th>\n",
              "      <th>PhysActivity</th>\n",
              "      <th>Fruits</th>\n",
              "      <th>Veggies</th>\n",
              "      <th>...</th>\n",
              "      <th>NoDocbcCost</th>\n",
              "      <th>GenHlth</th>\n",
              "      <th>MentHlth</th>\n",
              "      <th>PhysHlth</th>\n",
              "      <th>DiffWalk</th>\n",
              "      <th>Sex</th>\n",
              "      <th>Age</th>\n",
              "      <th>Education</th>\n",
              "      <th>Income</th>\n",
              "      <th>Diabetes_binary</th>\n",
              "    </tr>\n",
              "  </thead>\n",
              "  <tbody>\n",
              "    <tr>\n",
              "      <th>95413</th>\n",
              "      <td>1</td>\n",
              "      <td>1</td>\n",
              "      <td>1</td>\n",
              "      <td>-0.138886</td>\n",
              "      <td>0</td>\n",
              "      <td>0</td>\n",
              "      <td>0</td>\n",
              "      <td>1</td>\n",
              "      <td>1</td>\n",
              "      <td>1</td>\n",
              "      <td>...</td>\n",
              "      <td>0</td>\n",
              "      <td>2</td>\n",
              "      <td>-0.483194</td>\n",
              "      <td>-0.602516</td>\n",
              "      <td>0</td>\n",
              "      <td>1</td>\n",
              "      <td>-0.575079</td>\n",
              "      <td>1.095084</td>\n",
              "      <td>1.114489</td>\n",
              "      <td>1</td>\n",
              "    </tr>\n",
              "    <tr>\n",
              "      <th>248839</th>\n",
              "      <td>1</td>\n",
              "      <td>1</td>\n",
              "      <td>1</td>\n",
              "      <td>-0.828901</td>\n",
              "      <td>0</td>\n",
              "      <td>0</td>\n",
              "      <td>0</td>\n",
              "      <td>1</td>\n",
              "      <td>1</td>\n",
              "      <td>1</td>\n",
              "      <td>...</td>\n",
              "      <td>0</td>\n",
              "      <td>5</td>\n",
              "      <td>0.353858</td>\n",
              "      <td>-0.020075</td>\n",
              "      <td>0</td>\n",
              "      <td>0</td>\n",
              "      <td>0.473060</td>\n",
              "      <td>1.095084</td>\n",
              "      <td>0.194564</td>\n",
              "      <td>0</td>\n",
              "    </tr>\n",
              "    <tr>\n",
              "      <th>115962</th>\n",
              "      <td>1</td>\n",
              "      <td>1</td>\n",
              "      <td>1</td>\n",
              "      <td>-1.242909</td>\n",
              "      <td>0</td>\n",
              "      <td>0</td>\n",
              "      <td>0</td>\n",
              "      <td>1</td>\n",
              "      <td>0</td>\n",
              "      <td>1</td>\n",
              "      <td>...</td>\n",
              "      <td>0</td>\n",
              "      <td>2</td>\n",
              "      <td>-0.483194</td>\n",
              "      <td>-0.602516</td>\n",
              "      <td>0</td>\n",
              "      <td>1</td>\n",
              "      <td>-1.972597</td>\n",
              "      <td>1.095084</td>\n",
              "      <td>1.114489</td>\n",
              "      <td>0</td>\n",
              "    </tr>\n",
              "    <tr>\n",
              "      <th>83044</th>\n",
              "      <td>0</td>\n",
              "      <td>0</td>\n",
              "      <td>1</td>\n",
              "      <td>-0.690898</td>\n",
              "      <td>0</td>\n",
              "      <td>0</td>\n",
              "      <td>0</td>\n",
              "      <td>1</td>\n",
              "      <td>1</td>\n",
              "      <td>1</td>\n",
              "      <td>...</td>\n",
              "      <td>0</td>\n",
              "      <td>3</td>\n",
              "      <td>-0.483194</td>\n",
              "      <td>-0.602516</td>\n",
              "      <td>0</td>\n",
              "      <td>1</td>\n",
              "      <td>-1.623217</td>\n",
              "      <td>-0.842946</td>\n",
              "      <td>-1.185323</td>\n",
              "      <td>0</td>\n",
              "    </tr>\n",
              "    <tr>\n",
              "      <th>108231</th>\n",
              "      <td>0</td>\n",
              "      <td>0</td>\n",
              "      <td>1</td>\n",
              "      <td>-0.828901</td>\n",
              "      <td>1</td>\n",
              "      <td>1</td>\n",
              "      <td>0</td>\n",
              "      <td>1</td>\n",
              "      <td>1</td>\n",
              "      <td>1</td>\n",
              "      <td>...</td>\n",
              "      <td>0</td>\n",
              "      <td>2</td>\n",
              "      <td>-0.483194</td>\n",
              "      <td>-0.602516</td>\n",
              "      <td>1</td>\n",
              "      <td>1</td>\n",
              "      <td>0.473060</td>\n",
              "      <td>1.095084</td>\n",
              "      <td>-0.725361</td>\n",
              "      <td>0</td>\n",
              "    </tr>\n",
              "  </tbody>\n",
              "</table>\n",
              "<p>5 rows × 22 columns</p>\n",
              "</div>\n",
              "    <div class=\"colab-df-buttons\">\n",
              "\n",
              "  <div class=\"colab-df-container\">\n",
              "    <button class=\"colab-df-convert\" onclick=\"convertToInteractive('df-cd4e460e-bf56-4f72-8e3b-851aaa792100')\"\n",
              "            title=\"Convert this dataframe to an interactive table.\"\n",
              "            style=\"display:none;\">\n",
              "\n",
              "  <svg xmlns=\"http://www.w3.org/2000/svg\" height=\"24px\" viewBox=\"0 -960 960 960\">\n",
              "    <path d=\"M120-120v-720h720v720H120Zm60-500h600v-160H180v160Zm220 220h160v-160H400v160Zm0 220h160v-160H400v160ZM180-400h160v-160H180v160Zm440 0h160v-160H620v160ZM180-180h160v-160H180v160Zm440 0h160v-160H620v160Z\"/>\n",
              "  </svg>\n",
              "    </button>\n",
              "\n",
              "  <style>\n",
              "    .colab-df-container {\n",
              "      display:flex;\n",
              "      gap: 12px;\n",
              "    }\n",
              "\n",
              "    .colab-df-convert {\n",
              "      background-color: #E8F0FE;\n",
              "      border: none;\n",
              "      border-radius: 50%;\n",
              "      cursor: pointer;\n",
              "      display: none;\n",
              "      fill: #1967D2;\n",
              "      height: 32px;\n",
              "      padding: 0 0 0 0;\n",
              "      width: 32px;\n",
              "    }\n",
              "\n",
              "    .colab-df-convert:hover {\n",
              "      background-color: #E2EBFA;\n",
              "      box-shadow: 0px 1px 2px rgba(60, 64, 67, 0.3), 0px 1px 3px 1px rgba(60, 64, 67, 0.15);\n",
              "      fill: #174EA6;\n",
              "    }\n",
              "\n",
              "    .colab-df-buttons div {\n",
              "      margin-bottom: 4px;\n",
              "    }\n",
              "\n",
              "    [theme=dark] .colab-df-convert {\n",
              "      background-color: #3B4455;\n",
              "      fill: #D2E3FC;\n",
              "    }\n",
              "\n",
              "    [theme=dark] .colab-df-convert:hover {\n",
              "      background-color: #434B5C;\n",
              "      box-shadow: 0px 1px 3px 1px rgba(0, 0, 0, 0.15);\n",
              "      filter: drop-shadow(0px 1px 2px rgba(0, 0, 0, 0.3));\n",
              "      fill: #FFFFFF;\n",
              "    }\n",
              "  </style>\n",
              "\n",
              "    <script>\n",
              "      const buttonEl =\n",
              "        document.querySelector('#df-cd4e460e-bf56-4f72-8e3b-851aaa792100 button.colab-df-convert');\n",
              "      buttonEl.style.display =\n",
              "        google.colab.kernel.accessAllowed ? 'block' : 'none';\n",
              "\n",
              "      async function convertToInteractive(key) {\n",
              "        const element = document.querySelector('#df-cd4e460e-bf56-4f72-8e3b-851aaa792100');\n",
              "        const dataTable =\n",
              "          await google.colab.kernel.invokeFunction('convertToInteractive',\n",
              "                                                    [key], {});\n",
              "        if (!dataTable) return;\n",
              "\n",
              "        const docLinkHtml = 'Like what you see? Visit the ' +\n",
              "          '<a target=\"_blank\" href=https://colab.research.google.com/notebooks/data_table.ipynb>data table notebook</a>'\n",
              "          + ' to learn more about interactive tables.';\n",
              "        element.innerHTML = '';\n",
              "        dataTable['output_type'] = 'display_data';\n",
              "        await google.colab.output.renderOutput(dataTable, element);\n",
              "        const docLink = document.createElement('div');\n",
              "        docLink.innerHTML = docLinkHtml;\n",
              "        element.appendChild(docLink);\n",
              "      }\n",
              "    </script>\n",
              "  </div>\n",
              "\n",
              "\n",
              "<div id=\"df-5fd5de61-956e-4003-b9b3-4110f94f71b4\">\n",
              "  <button class=\"colab-df-quickchart\" onclick=\"quickchart('df-5fd5de61-956e-4003-b9b3-4110f94f71b4')\"\n",
              "            title=\"Suggest charts\"\n",
              "            style=\"display:none;\">\n",
              "\n",
              "<svg xmlns=\"http://www.w3.org/2000/svg\" height=\"24px\"viewBox=\"0 0 24 24\"\n",
              "     width=\"24px\">\n",
              "    <g>\n",
              "        <path d=\"M19 3H5c-1.1 0-2 .9-2 2v14c0 1.1.9 2 2 2h14c1.1 0 2-.9 2-2V5c0-1.1-.9-2-2-2zM9 17H7v-7h2v7zm4 0h-2V7h2v10zm4 0h-2v-4h2v4z\"/>\n",
              "    </g>\n",
              "</svg>\n",
              "  </button>\n",
              "\n",
              "<style>\n",
              "  .colab-df-quickchart {\n",
              "      --bg-color: #E8F0FE;\n",
              "      --fill-color: #1967D2;\n",
              "      --hover-bg-color: #E2EBFA;\n",
              "      --hover-fill-color: #174EA6;\n",
              "      --disabled-fill-color: #AAA;\n",
              "      --disabled-bg-color: #DDD;\n",
              "  }\n",
              "\n",
              "  [theme=dark] .colab-df-quickchart {\n",
              "      --bg-color: #3B4455;\n",
              "      --fill-color: #D2E3FC;\n",
              "      --hover-bg-color: #434B5C;\n",
              "      --hover-fill-color: #FFFFFF;\n",
              "      --disabled-bg-color: #3B4455;\n",
              "      --disabled-fill-color: #666;\n",
              "  }\n",
              "\n",
              "  .colab-df-quickchart {\n",
              "    background-color: var(--bg-color);\n",
              "    border: none;\n",
              "    border-radius: 50%;\n",
              "    cursor: pointer;\n",
              "    display: none;\n",
              "    fill: var(--fill-color);\n",
              "    height: 32px;\n",
              "    padding: 0;\n",
              "    width: 32px;\n",
              "  }\n",
              "\n",
              "  .colab-df-quickchart:hover {\n",
              "    background-color: var(--hover-bg-color);\n",
              "    box-shadow: 0 1px 2px rgba(60, 64, 67, 0.3), 0 1px 3px 1px rgba(60, 64, 67, 0.15);\n",
              "    fill: var(--button-hover-fill-color);\n",
              "  }\n",
              "\n",
              "  .colab-df-quickchart-complete:disabled,\n",
              "  .colab-df-quickchart-complete:disabled:hover {\n",
              "    background-color: var(--disabled-bg-color);\n",
              "    fill: var(--disabled-fill-color);\n",
              "    box-shadow: none;\n",
              "  }\n",
              "\n",
              "  .colab-df-spinner {\n",
              "    border: 2px solid var(--fill-color);\n",
              "    border-color: transparent;\n",
              "    border-bottom-color: var(--fill-color);\n",
              "    animation:\n",
              "      spin 1s steps(1) infinite;\n",
              "  }\n",
              "\n",
              "  @keyframes spin {\n",
              "    0% {\n",
              "      border-color: transparent;\n",
              "      border-bottom-color: var(--fill-color);\n",
              "      border-left-color: var(--fill-color);\n",
              "    }\n",
              "    20% {\n",
              "      border-color: transparent;\n",
              "      border-left-color: var(--fill-color);\n",
              "      border-top-color: var(--fill-color);\n",
              "    }\n",
              "    30% {\n",
              "      border-color: transparent;\n",
              "      border-left-color: var(--fill-color);\n",
              "      border-top-color: var(--fill-color);\n",
              "      border-right-color: var(--fill-color);\n",
              "    }\n",
              "    40% {\n",
              "      border-color: transparent;\n",
              "      border-right-color: var(--fill-color);\n",
              "      border-top-color: var(--fill-color);\n",
              "    }\n",
              "    60% {\n",
              "      border-color: transparent;\n",
              "      border-right-color: var(--fill-color);\n",
              "    }\n",
              "    80% {\n",
              "      border-color: transparent;\n",
              "      border-right-color: var(--fill-color);\n",
              "      border-bottom-color: var(--fill-color);\n",
              "    }\n",
              "    90% {\n",
              "      border-color: transparent;\n",
              "      border-bottom-color: var(--fill-color);\n",
              "    }\n",
              "  }\n",
              "</style>\n",
              "\n",
              "  <script>\n",
              "    async function quickchart(key) {\n",
              "      const quickchartButtonEl =\n",
              "        document.querySelector('#' + key + ' button');\n",
              "      quickchartButtonEl.disabled = true;  // To prevent multiple clicks.\n",
              "      quickchartButtonEl.classList.add('colab-df-spinner');\n",
              "      try {\n",
              "        const charts = await google.colab.kernel.invokeFunction(\n",
              "            'suggestCharts', [key], {});\n",
              "      } catch (error) {\n",
              "        console.error('Error during call to suggestCharts:', error);\n",
              "      }\n",
              "      quickchartButtonEl.classList.remove('colab-df-spinner');\n",
              "      quickchartButtonEl.classList.add('colab-df-quickchart-complete');\n",
              "    }\n",
              "    (() => {\n",
              "      let quickchartButtonEl =\n",
              "        document.querySelector('#df-5fd5de61-956e-4003-b9b3-4110f94f71b4 button');\n",
              "      quickchartButtonEl.style.display =\n",
              "        google.colab.kernel.accessAllowed ? 'block' : 'none';\n",
              "    })();\n",
              "  </script>\n",
              "</div>\n",
              "\n",
              "    </div>\n",
              "  </div>\n"
            ],
            "application/vnd.google.colaboratory.intrinsic+json": {
              "type": "dataframe",
              "variable_name": "df_balanced"
            }
          },
          "metadata": {},
          "execution_count": 9
        }
      ]
    },
    {
      "cell_type": "markdown",
      "source": [
        "# **Data Split**"
      ],
      "metadata": {
        "id": "tKJG6GneilWx"
      }
    },
    {
      "cell_type": "code",
      "source": [
        "# Define features (X) and target variable (y)\n",
        "X = df_balanced.drop(columns=[\"Diabetes_binary\"])\n",
        "y = df_balanced[\"Diabetes_binary\"]\n",
        "\n",
        "# Split into training (80%) and testing (20%) sets\n",
        "X_train, X_test, y_train, y_test = train_test_split(X, y, test_size=0.2, random_state=42, stratify=y)"
      ],
      "metadata": {
        "id": "5oE0ZUTvimIn"
      },
      "execution_count": null,
      "outputs": []
    },
    {
      "cell_type": "markdown",
      "source": [
        "# **Model Definition**"
      ],
      "metadata": {
        "id": "M3NCO7XRit7M"
      }
    },
    {
      "cell_type": "code",
      "source": [
        "# Define models\n",
        "models = {\n",
        "    \"Gaussian Process Classifier\": GaussianProcessClassifier(),\n",
        "    \"Logistic Regression\": LogisticRegression(),\n",
        "    \"Random Forest\": RandomForestClassifier(),\n",
        "    \"Support Vector Machine\": SVC(probability=True),\n",
        "    \"Gradient Boosting Classifier\": GradientBoostingClassifier()\n",
        "}\n",
        "#TODO: Tuning\n",
        "# Dictionary to store results\n",
        "results = {}"
      ],
      "metadata": {
        "id": "Phl256tai0ee"
      },
      "execution_count": null,
      "outputs": []
    },
    {
      "cell_type": "markdown",
      "source": [
        "# **Model Training and Evaluation**"
      ],
      "metadata": {
        "id": "5c33wd7Di5Zk"
      }
    },
    {
      "cell_type": "code",
      "source": [
        "# Train and evaluate each model\n",
        "for name, model in models.items():\n",
        "    start_time = time.time()\n",
        "\n",
        "    # Train the model\n",
        "    model.fit(X_train, y_train)\n",
        "\n",
        "    # Predict on test set\n",
        "    y_pred = model.predict(X_test)\n",
        "    y_pred_proba = model.predict_proba(X_test)[:, 1]  # For ROC-AUC\n",
        "\n",
        "    # Calculate performance metrics\n",
        "    accuracy = accuracy_score(y_test, y_pred)\n",
        "    precision = precision_score(y_test, y_pred)\n",
        "    recall = recall_score(y_test, y_pred)\n",
        "    f1 = f1_score(y_test, y_pred)\n",
        "    roc_auc = roc_auc_score(y_test, y_pred_proba)\n",
        "    execution_time = time.time() - start_time\n",
        "\n",
        "    # Store results\n",
        "    results[name] = {\n",
        "        \"Accuracy\": accuracy,\n",
        "        \"Precision\": precision,\n",
        "        \"Recall\": recall,\n",
        "        \"F1-score\": f1,\n",
        "        \"ROC-AUC\": roc_auc,\n",
        "        \"Time (s)\": execution_time\n",
        "    }\n",
        "\n",
        "# Convert results into a DataFrame for visualization\n",
        "results_df = pd.DataFrame(results).T"
      ],
      "metadata": {
        "id": "TT02QUvViTfb"
      },
      "execution_count": null,
      "outputs": []
    },
    {
      "cell_type": "markdown",
      "source": [
        "# **Results**"
      ],
      "metadata": {
        "id": "dzitIg-yjShl"
      }
    },
    {
      "cell_type": "code",
      "source": [
        "# Display results\n",
        "print(\"Model Performance Metrics:\\n\", results_df)\n",
        "\n",
        "# ------------------------- VISUALIZATION -------------------------\n",
        "\n",
        "# Plot model performance\n",
        "fig, axes = plt.subplots(2, 2, figsize=(12, 10))\n",
        "axes = axes.flatten()\n",
        "metrics = [\"Accuracy\", \"Precision\", \"Recall\", \"F1-score\"]\n",
        "\n",
        "for i, metric in enumerate(metrics):\n",
        "    sns.barplot(x=results_df.index, y=results_df[metric], ax=axes[i], hue=results_df.index, palette=\"coolwarm\", legend=False)\n",
        "    axes[i].set_title(f\"{metric} Comparison\")\n",
        "    axes[i].set_ylabel(metric)\n",
        "    axes[i].set_xticks(range(len(results_df.index)))\n",
        "    axes[i].set_xticklabels(results_df.index, rotation=45)\n",
        "\n",
        "plt.tight_layout()\n",
        "plt.show()\n",
        "\n",
        "# Display classification reports for each model\n",
        "for name, model in models.items():\n",
        "    print(f\"\\nClassification Report for {name}:\\n\")\n",
        "    print(classification_report(y_test, model.predict(X_test)))"
      ],
      "metadata": {
        "colab": {
          "base_uri": "https://localhost:8080/",
          "height": 1000
        },
        "id": "TPqD8IJkjXHn",
        "outputId": "d1e1e8ce-9b94-4c46-a817-bc6998629804"
      },
      "execution_count": null,
      "outputs": [
        {
          "output_type": "stream",
          "name": "stdout",
          "text": [
            "Model Performance Metrics:\n",
            "                               Accuracy  Precision  Recall  F1-score   ROC-AUC  \\\n",
            "Gaussian Process Classifier     0.7515   0.728015   0.803  0.763671  0.799165   \n",
            "Logistic Regression             0.7505   0.736544   0.780  0.757649  0.818801   \n",
            "Random Forest                   0.7540   0.737383   0.789  0.762319  0.834365   \n",
            "Support Vector Machine          0.7530   0.727110   0.810  0.766320  0.820730   \n",
            "Gradient Boosting Classifier    0.7480   0.726277   0.796  0.759542  0.821637   \n",
            "\n",
            "                                Time (s)  \n",
            "Gaussian Process Classifier   200.439107  \n",
            "Logistic Regression             0.086803  \n",
            "Random Forest                   1.263047  \n",
            "Support Vector Machine         18.320079  \n",
            "Gradient Boosting Classifier    1.131432  \n"
          ]
        },
        {
          "output_type": "display_data",
          "data": {
            "text/plain": [
              "<Figure size 1200x1000 with 4 Axes>"
            ],
            "image/png": "[encoded data removed]"
          },
          "metadata": {}
        },
        {
          "output_type": "stream",
          "name": "stdout",
          "text": [
            "\n",
            "Classification Report for Gaussian Process Classifier:\n",
            "\n",
            "              precision    recall  f1-score   support\n",
            "\n",
            "           0       0.78      0.70      0.74      1000\n",
            "           1       0.73      0.80      0.76      1000\n",
            "\n",
            "    accuracy                           0.75      2000\n",
            "   macro avg       0.75      0.75      0.75      2000\n",
            "weighted avg       0.75      0.75      0.75      2000\n",
            "\n",
            "\n",
            "Classification Report for Logistic Regression:\n",
            "\n",
            "              precision    recall  f1-score   support\n",
            "\n",
            "           0       0.77      0.72      0.74      1000\n",
            "           1       0.74      0.78      0.76      1000\n",
            "\n",
            "    accuracy                           0.75      2000\n",
            "   macro avg       0.75      0.75      0.75      2000\n",
            "weighted avg       0.75      0.75      0.75      2000\n",
            "\n",
            "\n",
            "Classification Report for Random Forest:\n",
            "\n",
            "              precision    recall  f1-score   support\n",
            "\n",
            "           0       0.77      0.72      0.75      1000\n",
            "           1       0.74      0.79      0.76      1000\n",
            "\n",
            "    accuracy                           0.75      2000\n",
            "   macro avg       0.76      0.75      0.75      2000\n",
            "weighted avg       0.76      0.75      0.75      2000\n",
            "\n",
            "\n",
            "Classification Report for Support Vector Machine:\n",
            "\n",
            "              precision    recall  f1-score   support\n",
            "\n",
            "           0       0.79      0.70      0.74      1000\n",
            "           1       0.73      0.81      0.77      1000\n",
            "\n",
            "    accuracy                           0.75      2000\n",
            "   macro avg       0.76      0.75      0.75      2000\n",
            "weighted avg       0.76      0.75      0.75      2000\n",
            "\n",
            "\n",
            "Classification Report for Gradient Boosting Classifier:\n",
            "\n",
            "              precision    recall  f1-score   support\n",
            "\n",
            "           0       0.77      0.70      0.74      1000\n",
            "           1       0.73      0.80      0.76      1000\n",
            "\n",
            "    accuracy                           0.75      2000\n",
            "   macro avg       0.75      0.75      0.75      2000\n",
            "weighted avg       0.75      0.75      0.75      2000\n",
            "\n"
          ]
        }
      ]
    },
    {
      "cell_type": "markdown",
      "source": [
        "# **Hyperparmeter Tuning on Select Models(Gausian Process Classifier and Logistic Regression)**"
      ],
      "metadata": {
        "id": "LffFcEp0jZSb"
      }
    },
    {
      "cell_type": "code",
      "source": [
        "# Define hyperparameter grids\n",
        "param_grid_gpc = {\n",
        "    'max_iter_predict': [50, 100, 200],\n",
        "    'multi_class': ['one_vs_rest']\n",
        "}\n",
        "\n",
        "param_grid_lr = {\n",
        "    'C': [0.01, 0.1, 1, 10, 100],\n",
        "    'solver': ['liblinear', 'lbfgs', 'saga']\n",
        "}\n",
        "\n",
        "# Hyperparameter tuning for Gaussian Process Classifier\n",
        "gpc = GaussianProcessClassifier()\n",
        "gpc_search = RandomizedSearchCV(gpc, param_grid_gpc, n_iter=5, cv=3, scoring='accuracy', random_state=42, n_jobs=-1)\n",
        "gpc_search.fit(X_train, y_train)\n",
        "best_gpc = gpc_search.best_estimator_\n",
        "print(\"Best Parameters for Gaussian Process Classifier:\", gpc_search.best_params_)\n",
        "\n",
        "# Hyperparameter tuning for Logistic Regression\n",
        "lr = LogisticRegression()\n",
        "lr_search = RandomizedSearchCV(lr, param_grid_lr, n_iter=5, cv=3, scoring='accuracy', random_state=42, n_jobs=-1)\n",
        "lr_search.fit(X_train, y_train)\n",
        "best_lr = lr_search.best_estimator_\n",
        "print(\"Best Parameters for Logistic Regression:\", lr_search.best_params_)\n",
        "\n",
        "# Evaluate tuned models\n",
        "def evaluate_model(model, X_test, y_test):\n",
        "    y_pred = model.predict(X_test)\n",
        "    y_pred_proba = model.predict_proba(X_test)[:, 1]\n",
        "    return {\n",
        "        \"Accuracy\": accuracy_score(y_test, y_pred),\n",
        "        \"Precision\": precision_score(y_test, y_pred),\n",
        "        \"Recall\": recall_score(y_test, y_pred),\n",
        "        \"F1-score\": f1_score(y_test, y_pred),\n",
        "        \"ROC-AUC\": roc_auc_score(y_test, y_pred_proba)\n",
        "    }\n",
        "\n",
        "# Store results\n",
        "results_tuned = {\n",
        "    \"Gaussian Process Classifier (Tuned)\": evaluate_model(best_gpc, X_test, y_test),\n",
        "    \"Logistic Regression (Tuned)\": evaluate_model(best_lr, X_test, y_test)\n",
        "}\n",
        "\n",
        "# Convert results to DataFrame\n",
        "results_tuned_df = pd.DataFrame(results_tuned).T\n",
        "print(\"Tuned Model Performance:\\n\", results_tuned_df)"
      ],
      "metadata": {
        "colab": {
          "base_uri": "https://localhost:8080/"
        },
        "id": "e8p-rbNdjZCN",
        "outputId": "67e58fee-6b14-4216-8597-bb0cec0f40e3"
      },
      "execution_count": null,
      "outputs": [
        {
          "output_type": "stream",
          "name": "stderr",
          "text": [
            "/usr/local/lib/python3.11/dist-packages/sklearn/model_selection/_search.py:317: UserWarning: The total space of parameters 3 is smaller than n_iter=5. Running 3 iterations. For exhaustive searches, use GridSearchCV.\n",
            "  warnings.warn(\n"
          ]
        },
        {
          "output_type": "stream",
          "name": "stdout",
          "text": [
            "Best Parameters for Gaussian Process Classifier: {'multi_class': 'one_vs_rest', 'max_iter_predict': 50}\n",
            "Best Parameters for Logistic Regression: {'solver': 'saga', 'C': 0.1}\n",
            "Tuned Model Performance:\n",
            "                                      Accuracy  Precision  Recall  F1-score  \\\n",
            "Gaussian Process Classifier (Tuned)    0.7515   0.728015   0.803  0.763671   \n",
            "Logistic Regression (Tuned)            0.7495   0.736493   0.777  0.756204   \n",
            "\n",
            "                                      ROC-AUC  \n",
            "Gaussian Process Classifier (Tuned)  0.799165  \n",
            "Logistic Regression (Tuned)          0.819067  \n"
          ]
        }
      ]
    },
    {
      "cell_type": "markdown",
      "source": [
        "# **Post-Tuning Results**"
      ],
      "metadata": {
        "id": "ncLiLqPpuQVQ"
      }
    },
    {
      "cell_type": "code",
      "source": [
        "print (results_df, \"\\n\\n\",results_tuned_df)"
      ],
      "metadata": {
        "colab": {
          "base_uri": "https://localhost:8080/"
        },
        "id": "DRRxueIDsTMX",
        "outputId": "bad41d4b-8459-4a73-efbf-05ff72ea8b4f"
      },
      "execution_count": null,
      "outputs": [
        {
          "output_type": "stream",
          "name": "stdout",
          "text": [
            "                              Accuracy  Precision  Recall  F1-score   ROC-AUC  \\\n",
            "Gaussian Process Classifier     0.7515   0.728015   0.803  0.763671  0.799165   \n",
            "Logistic Regression             0.7505   0.736544   0.780  0.757649  0.818801   \n",
            "Random Forest                   0.7540   0.737383   0.789  0.762319  0.834365   \n",
            "Support Vector Machine          0.7530   0.727110   0.810  0.766320  0.820730   \n",
            "Gradient Boosting Classifier    0.7480   0.726277   0.796  0.759542  0.821637   \n",
            "\n",
            "                                Time (s)  \n",
            "Gaussian Process Classifier   200.439107  \n",
            "Logistic Regression             0.086803  \n",
            "Random Forest                   1.263047  \n",
            "Support Vector Machine         18.320079  \n",
            "Gradient Boosting Classifier    1.131432   \n",
            "\n",
            "                                      Accuracy  Precision  Recall  F1-score  \\\n",
            "Gaussian Process Classifier (Tuned)    0.7515   0.728015   0.803  0.763671   \n",
            "Logistic Regression (Tuned)            0.7495   0.736493   0.777  0.756204   \n",
            "\n",
            "                                      ROC-AUC  \n",
            "Gaussian Process Classifier (Tuned)  0.799165  \n",
            "Logistic Regression (Tuned)          0.819067  \n"
          ]
        }
      ]
    }
  ]
}