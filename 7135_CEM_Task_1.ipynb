{
  "nbformat": 4,
  "nbformat_minor": 0,
  "metadata": {
    "colab": {
      "provenance": [],
      "collapsed_sections": [
        "a0SdIci-b_-K",
        "r-upy-Mzb8N2",
        "4Qmn0gyTc2rU",
        "qC4W3SwleZYJ",
        "bPjP_byokQR5",
        "KjoKh9fJf_A-",
        "J6_2WeeGgv3_",
        "tKJG6GneilWx",
        "M3NCO7XRit7M",
        "5c33wd7Di5Zk",
        "dzitIg-yjShl",
        "LffFcEp0jZSb",
        "ncLiLqPpuQVQ"
      ],
      "authorship_tag": "ABX9TyMGyxafMiG94dPqVgE+klrT",
      "include_colab_link": true
    },
    "kernelspec": {
      "name": "python3",
      "display_name": "Python 3"
    },
    "language_info": {
      "name": "python"
    }
  },
  "cells": [
    {
      "cell_type": "markdown",
      "metadata": {
        "id": "view-in-github",
        "colab_type": "text"
      },
      "source": [
        "<a href=\"https://colab.research.google.com/github/akpanitorobong/7135CEM-Modelling_and_Optimization_Under_Uncertainty/blob/main/7135_CEM_Task_1.ipynb\" target=\"_parent\"><img src=\"https://colab.research.google.com/assets/colab-badge.svg\" alt=\"Open In Colab\"/></a>"
      ]
    },
    {
      "cell_type": "markdown",
      "source": [
        "# **Install Libraries**"
      ],
      "metadata": {
        "id": "a0SdIci-b_-K"
      }
    },
    {
      "cell_type": "code",
      "execution_count": 2,
      "metadata": {
        "colab": {
          "base_uri": "https://localhost:8080/"
        },
        "id": "vphzyQ0KPltT",
        "outputId": "ca83f3e4-a1d1-4ed4-9bea-10d799a5f861"
      },
      "outputs": [
        {
          "output_type": "stream",
          "name": "stdout",
          "text": [
            "Installing Libraries...\n",
            "Requirement already satisfied: ucimlrepo in /usr/local/lib/python3.11/dist-packages (0.0.7)\n",
            "Requirement already satisfied: pandas>=1.0.0 in /usr/local/lib/python3.11/dist-packages (from ucimlrepo) (2.2.2)\n",
            "Requirement already satisfied: certifi>=2020.12.5 in /usr/local/lib/python3.11/dist-packages (from ucimlrepo) (2025.1.31)\n",
            "Requirement already satisfied: numpy>=1.23.2 in /usr/local/lib/python3.11/dist-packages (from pandas>=1.0.0->ucimlrepo) (2.0.2)\n",
            "Requirement already satisfied: python-dateutil>=2.8.2 in /usr/local/lib/python3.11/dist-packages (from pandas>=1.0.0->ucimlrepo) (2.8.2)\n",
            "Requirement already satisfied: pytz>=2020.1 in /usr/local/lib/python3.11/dist-packages (from pandas>=1.0.0->ucimlrepo) (2025.1)\n",
            "Requirement already satisfied: tzdata>=2022.7 in /usr/local/lib/python3.11/dist-packages (from pandas>=1.0.0->ucimlrepo) (2025.1)\n",
            "Requirement already satisfied: six>=1.5 in /usr/local/lib/python3.11/dist-packages (from python-dateutil>=2.8.2->pandas>=1.0.0->ucimlrepo) (1.17.0)\n",
            "Requirement already satisfied: imbalanced-learn in /usr/local/lib/python3.11/dist-packages (0.13.0)\n",
            "Requirement already satisfied: numpy<3,>=1.24.3 in /usr/local/lib/python3.11/dist-packages (from imbalanced-learn) (2.0.2)\n",
            "Requirement already satisfied: scipy<2,>=1.10.1 in /usr/local/lib/python3.11/dist-packages (from imbalanced-learn) (1.14.1)\n",
            "Requirement already satisfied: scikit-learn<2,>=1.3.2 in /usr/local/lib/python3.11/dist-packages (from imbalanced-learn) (1.6.1)\n",
            "Requirement already satisfied: sklearn-compat<1,>=0.1 in /usr/local/lib/python3.11/dist-packages (from imbalanced-learn) (0.1.3)\n",
            "Requirement already satisfied: joblib<2,>=1.1.1 in /usr/local/lib/python3.11/dist-packages (from imbalanced-learn) (1.4.2)\n",
            "Requirement already satisfied: threadpoolctl<4,>=2.0.0 in /usr/local/lib/python3.11/dist-packages (from imbalanced-learn) (3.6.0)\n",
            "Libraries imported successfully!\n"
          ]
        }
      ],
      "source": [
        "print(\"Installing Libraries...\")\n",
        "\n",
        "# Install necessary packages\n",
        "!pip install ucimlrepo  # For dataset handling\n",
        "!pip install imbalanced-learn  # For class balancing\n",
        "\n",
        "# mport Required Libraries\n",
        "import pandas as pd  # For data manipulation\n",
        "import numpy as np  # For numerical operations\n",
        "import matplotlib.pyplot as plt  # For data visualization\n",
        "import seaborn as sns  # Enhanced visualization\n",
        "import time  # For tracking execution time\n",
        "\n",
        "from ucimlrepo import fetch_ucirepo  # For dataset import\n",
        "\n",
        "from imblearn.under_sampling import RandomUnderSampler# Class balancing\n",
        "\n",
        "# Feature Scaling & Dimensionality Reduction\n",
        "from sklearn.preprocessing import StandardScaler\n",
        "from sklearn.decomposition import PCA\n",
        "\n",
        "# Model Training & Evaluation\n",
        "from sklearn.model_selection import train_test_split, cross_val_score, GridSearchCV, RandomizedSearchCV\n",
        "from sklearn.utils import resample\n",
        "from sklearn.gaussian_process import GaussianProcessClassifier\n",
        "from sklearn.linear_model import LogisticRegression\n",
        "from sklearn.ensemble import RandomForestClassifier, GradientBoostingClassifier\n",
        "from sklearn.svm import SVC\n",
        "\n",
        "# Evaluation Metrics\n",
        "from sklearn.metrics import accuracy_score, precision_score, recall_score, f1_score, roc_auc_score, classification_report, confusion_matrix\n",
        "\n",
        "print(\"Libraries imported successfully!\")"
      ]
    },
    {
      "cell_type": "markdown",
      "source": [
        "# **Load and Inspect Dataset**"
      ],
      "metadata": {
        "id": "r-upy-Mzb8N2"
      }
    },
    {
      "cell_type": "code",
      "source": [
        "# **Load and Inspect Dataset**\n",
        "print(\"Loading dataset...\")\n",
        "\n",
        "# Fetch dataset from UCI Repository\n",
        "cdc_diabetes_health_indicators = fetch_ucirepo(id=891)\n",
        "\n",
        "# Extract features and target variables\n",
        "X = cdc_diabetes_health_indicators.data.features\n",
        "y = cdc_diabetes_health_indicators.data.targets\n",
        "\n",
        "# Combine for easy data handling\n",
        "df = pd.concat([X, y], axis=1)\n",
        "df.to_csv('diabetes_health_indicators.csv', index=False)\n",
        "\n",
        "print(\"Dataset loaded successfully.\")\n",
        "print(\"\\nDataset Info:\\n\")\n",
        "df.info()\n",
        "print(\"\\nFirst 5 Rows:\\n\")\n",
        "df.head()"
      ],
      "metadata": {
        "colab": {
          "base_uri": "https://localhost:8080/",
          "height": 878
        },
        "id": "GO4jJi8vUvEf",
        "outputId": "dfe4ff85-90c9-4f29-db84-a735c1131489"
      },
      "execution_count": 3,
      "outputs": [
        {
          "output_type": "stream",
          "name": "stdout",
          "text": [
            "Loading dataset...\n",
            "Dataset loaded successfully.\n",
            "\n",
            "Dataset Info:\n",
            "\n",
            "<class 'pandas.core.frame.DataFrame'>\n",
            "RangeIndex: 253680 entries, 0 to 253679\n",
            "Data columns (total 22 columns):\n",
            " #   Column                Non-Null Count   Dtype\n",
            "---  ------                --------------   -----\n",
            " 0   HighBP                253680 non-null  int64\n",
            " 1   HighChol              253680 non-null  int64\n",
            " 2   CholCheck             253680 non-null  int64\n",
            " 3   BMI                   253680 non-null  int64\n",
            " 4   Smoker                253680 non-null  int64\n",
            " 5   Stroke                253680 non-null  int64\n",
            " 6   HeartDiseaseorAttack  253680 non-null  int64\n",
            " 7   PhysActivity          253680 non-null  int64\n",
            " 8   Fruits                253680 non-null  int64\n",
            " 9   Veggies               253680 non-null  int64\n",
            " 10  HvyAlcoholConsump     253680 non-null  int64\n",
            " 11  AnyHealthcare         253680 non-null  int64\n",
            " 12  NoDocbcCost           253680 non-null  int64\n",
            " 13  GenHlth               253680 non-null  int64\n",
            " 14  MentHlth              253680 non-null  int64\n",
            " 15  PhysHlth              253680 non-null  int64\n",
            " 16  DiffWalk              253680 non-null  int64\n",
            " 17  Sex                   253680 non-null  int64\n",
            " 18  Age                   253680 non-null  int64\n",
            " 19  Education             253680 non-null  int64\n",
            " 20  Income                253680 non-null  int64\n",
            " 21  Diabetes_binary       253680 non-null  int64\n",
            "dtypes: int64(22)\n",
            "memory usage: 42.6 MB\n",
            "\n",
            "First 5 Rows:\n",
            "\n"
          ]
        },
        {
          "output_type": "execute_result",
          "data": {
            "text/plain": [
              "   HighBP  HighChol  CholCheck  BMI  Smoker  Stroke  HeartDiseaseorAttack  \\\n",
              "0       1         1          1   40       1       0                     0   \n",
              "1       0         0          0   25       1       0                     0   \n",
              "2       1         1          1   28       0       0                     0   \n",
              "3       1         0          1   27       0       0                     0   \n",
              "4       1         1          1   24       0       0                     0   \n",
              "\n",
              "   PhysActivity  Fruits  Veggies  ...  NoDocbcCost  GenHlth  MentHlth  \\\n",
              "0             0       0        1  ...            0        5        18   \n",
              "1             1       0        0  ...            1        3         0   \n",
              "2             0       1        0  ...            1        5        30   \n",
              "3             1       1        1  ...            0        2         0   \n",
              "4             1       1        1  ...            0        2         3   \n",
              "\n",
              "   PhysHlth  DiffWalk  Sex  Age  Education  Income  Diabetes_binary  \n",
              "0        15         1    0    9          4       3                0  \n",
              "1         0         0    0    7          6       1                0  \n",
              "2        30         1    0    9          4       8                0  \n",
              "3         0         0    0   11          3       6                0  \n",
              "4         0         0    0   11          5       4                0  \n",
              "\n",
              "[5 rows x 22 columns]"
            ],
            "text/html": [
              "\n",
              "  <div id=\"df-aa10de83-a6ad-478f-90a3-2c195f540140\" class=\"colab-df-container\">\n",
              "    <div>\n",
              "<style scoped>\n",
              "    .dataframe tbody tr th:only-of-type {\n",
              "        vertical-align: middle;\n",
              "    }\n",
              "\n",
              "    .dataframe tbody tr th {\n",
              "        vertical-align: top;\n",
              "    }\n",
              "\n",
              "    .dataframe thead th {\n",
              "        text-align: right;\n",
              "    }\n",
              "</style>\n",
              "<table border=\"1\" class=\"dataframe\">\n",
              "  <thead>\n",
              "    <tr style=\"text-align: right;\">\n",
              "      <th></th>\n",
              "      <th>HighBP</th>\n",
              "      <th>HighChol</th>\n",
              "      <th>CholCheck</th>\n",
              "      <th>BMI</th>\n",
              "      <th>Smoker</th>\n",
              "      <th>Stroke</th>\n",
              "      <th>HeartDiseaseorAttack</th>\n",
              "      <th>PhysActivity</th>\n",
              "      <th>Fruits</th>\n",
              "      <th>Veggies</th>\n",
              "      <th>...</th>\n",
              "      <th>NoDocbcCost</th>\n",
              "      <th>GenHlth</th>\n",
              "      <th>MentHlth</th>\n",
              "      <th>PhysHlth</th>\n",
              "      <th>DiffWalk</th>\n",
              "      <th>Sex</th>\n",
              "      <th>Age</th>\n",
              "      <th>Education</th>\n",
              "      <th>Income</th>\n",
              "      <th>Diabetes_binary</th>\n",
              "    </tr>\n",
              "  </thead>\n",
              "  <tbody>\n",
              "    <tr>\n",
              "      <th>0</th>\n",
              "      <td>1</td>\n",
              "      <td>1</td>\n",
              "      <td>1</td>\n",
              "      <td>40</td>\n",
              "      <td>1</td>\n",
              "      <td>0</td>\n",
              "      <td>0</td>\n",
              "      <td>0</td>\n",
              "      <td>0</td>\n",
              "      <td>1</td>\n",
              "      <td>...</td>\n",
              "      <td>0</td>\n",
              "      <td>5</td>\n",
              "      <td>18</td>\n",
              "      <td>15</td>\n",
              "      <td>1</td>\n",
              "      <td>0</td>\n",
              "      <td>9</td>\n",
              "      <td>4</td>\n",
              "      <td>3</td>\n",
              "      <td>0</td>\n",
              "    </tr>\n",
              "    <tr>\n",
              "      <th>1</th>\n",
              "      <td>0</td>\n",
              "      <td>0</td>\n",
              "      <td>0</td>\n",
              "      <td>25</td>\n",
              "      <td>1</td>\n",
              "      <td>0</td>\n",
              "      <td>0</td>\n",
              "      <td>1</td>\n",
              "      <td>0</td>\n",
              "      <td>0</td>\n",
              "      <td>...</td>\n",
              "      <td>1</td>\n",
              "      <td>3</td>\n",
              "      <td>0</td>\n",
              "      <td>0</td>\n",
              "      <td>0</td>\n",
              "      <td>0</td>\n",
              "      <td>7</td>\n",
              "      <td>6</td>\n",
              "      <td>1</td>\n",
              "      <td>0</td>\n",
              "    </tr>\n",
              "    <tr>\n",
              "      <th>2</th>\n",
              "      <td>1</td>\n",
              "      <td>1</td>\n",
              "      <td>1</td>\n",
              "      <td>28</td>\n",
              "      <td>0</td>\n",
              "      <td>0</td>\n",
              "      <td>0</td>\n",
              "      <td>0</td>\n",
              "      <td>1</td>\n",
              "      <td>0</td>\n",
              "      <td>...</td>\n",
              "      <td>1</td>\n",
              "      <td>5</td>\n",
              "      <td>30</td>\n",
              "      <td>30</td>\n",
              "      <td>1</td>\n",
              "      <td>0</td>\n",
              "      <td>9</td>\n",
              "      <td>4</td>\n",
              "      <td>8</td>\n",
              "      <td>0</td>\n",
              "    </tr>\n",
              "    <tr>\n",
              "      <th>3</th>\n",
              "      <td>1</td>\n",
              "      <td>0</td>\n",
              "      <td>1</td>\n",
              "      <td>27</td>\n",
              "      <td>0</td>\n",
              "      <td>0</td>\n",
              "      <td>0</td>\n",
              "      <td>1</td>\n",
              "      <td>1</td>\n",
              "      <td>1</td>\n",
              "      <td>...</td>\n",
              "      <td>0</td>\n",
              "      <td>2</td>\n",
              "      <td>0</td>\n",
              "      <td>0</td>\n",
              "      <td>0</td>\n",
              "      <td>0</td>\n",
              "      <td>11</td>\n",
              "      <td>3</td>\n",
              "      <td>6</td>\n",
              "      <td>0</td>\n",
              "    </tr>\n",
              "    <tr>\n",
              "      <th>4</th>\n",
              "      <td>1</td>\n",
              "      <td>1</td>\n",
              "      <td>1</td>\n",
              "      <td>24</td>\n",
              "      <td>0</td>\n",
              "      <td>0</td>\n",
              "      <td>0</td>\n",
              "      <td>1</td>\n",
              "      <td>1</td>\n",
              "      <td>1</td>\n",
              "      <td>...</td>\n",
              "      <td>0</td>\n",
              "      <td>2</td>\n",
              "      <td>3</td>\n",
              "      <td>0</td>\n",
              "      <td>0</td>\n",
              "      <td>0</td>\n",
              "      <td>11</td>\n",
              "      <td>5</td>\n",
              "      <td>4</td>\n",
              "      <td>0</td>\n",
              "    </tr>\n",
              "  </tbody>\n",
              "</table>\n",
              "<p>5 rows × 22 columns</p>\n",
              "</div>\n",
              "    <div class=\"colab-df-buttons\">\n",
              "\n",
              "  <div class=\"colab-df-container\">\n",
              "    <button class=\"colab-df-convert\" onclick=\"convertToInteractive('df-aa10de83-a6ad-478f-90a3-2c195f540140')\"\n",
              "            title=\"Convert this dataframe to an interactive table.\"\n",
              "            style=\"display:none;\">\n",
              "\n",
              "  <svg xmlns=\"http://www.w3.org/2000/svg\" height=\"24px\" viewBox=\"0 -960 960 960\">\n",
              "    <path d=\"M120-120v-720h720v720H120Zm60-500h600v-160H180v160Zm220 220h160v-160H400v160Zm0 220h160v-160H400v160ZM180-400h160v-160H180v160Zm440 0h160v-160H620v160ZM180-180h160v-160H180v160Zm440 0h160v-160H620v160Z\"/>\n",
              "  </svg>\n",
              "    </button>\n",
              "\n",
              "  <style>\n",
              "    .colab-df-container {\n",
              "      display:flex;\n",
              "      gap: 12px;\n",
              "    }\n",
              "\n",
              "    .colab-df-convert {\n",
              "      background-color: #E8F0FE;\n",
              "      border: none;\n",
              "      border-radius: 50%;\n",
              "      cursor: pointer;\n",
              "      display: none;\n",
              "      fill: #1967D2;\n",
              "      height: 32px;\n",
              "      padding: 0 0 0 0;\n",
              "      width: 32px;\n",
              "    }\n",
              "\n",
              "    .colab-df-convert:hover {\n",
              "      background-color: #E2EBFA;\n",
              "      box-shadow: 0px 1px 2px rgba(60, 64, 67, 0.3), 0px 1px 3px 1px rgba(60, 64, 67, 0.15);\n",
              "      fill: #174EA6;\n",
              "    }\n",
              "\n",
              "    .colab-df-buttons div {\n",
              "      margin-bottom: 4px;\n",
              "    }\n",
              "\n",
              "    [theme=dark] .colab-df-convert {\n",
              "      background-color: #3B4455;\n",
              "      fill: #D2E3FC;\n",
              "    }\n",
              "\n",
              "    [theme=dark] .colab-df-convert:hover {\n",
              "      background-color: #434B5C;\n",
              "      box-shadow: 0px 1px 3px 1px rgba(0, 0, 0, 0.15);\n",
              "      filter: drop-shadow(0px 1px 2px rgba(0, 0, 0, 0.3));\n",
              "      fill: #FFFFFF;\n",
              "    }\n",
              "  </style>\n",
              "\n",
              "    <script>\n",
              "      const buttonEl =\n",
              "        document.querySelector('#df-aa10de83-a6ad-478f-90a3-2c195f540140 button.colab-df-convert');\n",
              "      buttonEl.style.display =\n",
              "        google.colab.kernel.accessAllowed ? 'block' : 'none';\n",
              "\n",
              "      async function convertToInteractive(key) {\n",
              "        const element = document.querySelector('#df-aa10de83-a6ad-478f-90a3-2c195f540140');\n",
              "        const dataTable =\n",
              "          await google.colab.kernel.invokeFunction('convertToInteractive',\n",
              "                                                    [key], {});\n",
              "        if (!dataTable) return;\n",
              "\n",
              "        const docLinkHtml = 'Like what you see? Visit the ' +\n",
              "          '<a target=\"_blank\" href=https://colab.research.google.com/notebooks/data_table.ipynb>data table notebook</a>'\n",
              "          + ' to learn more about interactive tables.';\n",
              "        element.innerHTML = '';\n",
              "        dataTable['output_type'] = 'display_data';\n",
              "        await google.colab.output.renderOutput(dataTable, element);\n",
              "        const docLink = document.createElement('div');\n",
              "        docLink.innerHTML = docLinkHtml;\n",
              "        element.appendChild(docLink);\n",
              "      }\n",
              "    </script>\n",
              "  </div>\n",
              "\n",
              "\n",
              "<div id=\"df-89355fca-76a5-4f06-8c77-4ac26842c63e\">\n",
              "  <button class=\"colab-df-quickchart\" onclick=\"quickchart('df-89355fca-76a5-4f06-8c77-4ac26842c63e')\"\n",
              "            title=\"Suggest charts\"\n",
              "            style=\"display:none;\">\n",
              "\n",
              "<svg xmlns=\"http://www.w3.org/2000/svg\" height=\"24px\"viewBox=\"0 0 24 24\"\n",
              "     width=\"24px\">\n",
              "    <g>\n",
              "        <path d=\"M19 3H5c-1.1 0-2 .9-2 2v14c0 1.1.9 2 2 2h14c1.1 0 2-.9 2-2V5c0-1.1-.9-2-2-2zM9 17H7v-7h2v7zm4 0h-2V7h2v10zm4 0h-2v-4h2v4z\"/>\n",
              "    </g>\n",
              "</svg>\n",
              "  </button>\n",
              "\n",
              "<style>\n",
              "  .colab-df-quickchart {\n",
              "      --bg-color: #E8F0FE;\n",
              "      --fill-color: #1967D2;\n",
              "      --hover-bg-color: #E2EBFA;\n",
              "      --hover-fill-color: #174EA6;\n",
              "      --disabled-fill-color: #AAA;\n",
              "      --disabled-bg-color: #DDD;\n",
              "  }\n",
              "\n",
              "  [theme=dark] .colab-df-quickchart {\n",
              "      --bg-color: #3B4455;\n",
              "      --fill-color: #D2E3FC;\n",
              "      --hover-bg-color: #434B5C;\n",
              "      --hover-fill-color: #FFFFFF;\n",
              "      --disabled-bg-color: #3B4455;\n",
              "      --disabled-fill-color: #666;\n",
              "  }\n",
              "\n",
              "  .colab-df-quickchart {\n",
              "    background-color: var(--bg-color);\n",
              "    border: none;\n",
              "    border-radius: 50%;\n",
              "    cursor: pointer;\n",
              "    display: none;\n",
              "    fill: var(--fill-color);\n",
              "    height: 32px;\n",
              "    padding: 0;\n",
              "    width: 32px;\n",
              "  }\n",
              "\n",
              "  .colab-df-quickchart:hover {\n",
              "    background-color: var(--hover-bg-color);\n",
              "    box-shadow: 0 1px 2px rgba(60, 64, 67, 0.3), 0 1px 3px 1px rgba(60, 64, 67, 0.15);\n",
              "    fill: var(--button-hover-fill-color);\n",
              "  }\n",
              "\n",
              "  .colab-df-quickchart-complete:disabled,\n",
              "  .colab-df-quickchart-complete:disabled:hover {\n",
              "    background-color: var(--disabled-bg-color);\n",
              "    fill: var(--disabled-fill-color);\n",
              "    box-shadow: none;\n",
              "  }\n",
              "\n",
              "  .colab-df-spinner {\n",
              "    border: 2px solid var(--fill-color);\n",
              "    border-color: transparent;\n",
              "    border-bottom-color: var(--fill-color);\n",
              "    animation:\n",
              "      spin 1s steps(1) infinite;\n",
              "  }\n",
              "\n",
              "  @keyframes spin {\n",
              "    0% {\n",
              "      border-color: transparent;\n",
              "      border-bottom-color: var(--fill-color);\n",
              "      border-left-color: var(--fill-color);\n",
              "    }\n",
              "    20% {\n",
              "      border-color: transparent;\n",
              "      border-left-color: var(--fill-color);\n",
              "      border-top-color: var(--fill-color);\n",
              "    }\n",
              "    30% {\n",
              "      border-color: transparent;\n",
              "      border-left-color: var(--fill-color);\n",
              "      border-top-color: var(--fill-color);\n",
              "      border-right-color: var(--fill-color);\n",
              "    }\n",
              "    40% {\n",
              "      border-color: transparent;\n",
              "      border-right-color: var(--fill-color);\n",
              "      border-top-color: var(--fill-color);\n",
              "    }\n",
              "    60% {\n",
              "      border-color: transparent;\n",
              "      border-right-color: var(--fill-color);\n",
              "    }\n",
              "    80% {\n",
              "      border-color: transparent;\n",
              "      border-right-color: var(--fill-color);\n",
              "      border-bottom-color: var(--fill-color);\n",
              "    }\n",
              "    90% {\n",
              "      border-color: transparent;\n",
              "      border-bottom-color: var(--fill-color);\n",
              "    }\n",
              "  }\n",
              "</style>\n",
              "\n",
              "  <script>\n",
              "    async function quickchart(key) {\n",
              "      const quickchartButtonEl =\n",
              "        document.querySelector('#' + key + ' button');\n",
              "      quickchartButtonEl.disabled = true;  // To prevent multiple clicks.\n",
              "      quickchartButtonEl.classList.add('colab-df-spinner');\n",
              "      try {\n",
              "        const charts = await google.colab.kernel.invokeFunction(\n",
              "            'suggestCharts', [key], {});\n",
              "      } catch (error) {\n",
              "        console.error('Error during call to suggestCharts:', error);\n",
              "      }\n",
              "      quickchartButtonEl.classList.remove('colab-df-spinner');\n",
              "      quickchartButtonEl.classList.add('colab-df-quickchart-complete');\n",
              "    }\n",
              "    (() => {\n",
              "      let quickchartButtonEl =\n",
              "        document.querySelector('#df-89355fca-76a5-4f06-8c77-4ac26842c63e button');\n",
              "      quickchartButtonEl.style.display =\n",
              "        google.colab.kernel.accessAllowed ? 'block' : 'none';\n",
              "    })();\n",
              "  </script>\n",
              "</div>\n",
              "\n",
              "    </div>\n",
              "  </div>\n"
            ],
            "application/vnd.google.colaboratory.intrinsic+json": {
              "type": "dataframe",
              "variable_name": "df"
            }
          },
          "metadata": {},
          "execution_count": 3
        }
      ]
    },
    {
      "cell_type": "markdown",
      "source": [
        "# **Preprocessing**"
      ],
      "metadata": {
        "id": "4Qmn0gyTc2rU"
      }
    },
    {
      "cell_type": "code",
      "source": [
        "# Remove unnecessary column if present\n",
        "if \"Unnamed: 0\" in df.columns:\n",
        "    df.drop(columns=[\"Unnamed: 0\"], inplace=True)\n",
        "    print(\"Column 'Unnamed: 0' removed.\")\n",
        "\n",
        "# Check for and remove duplicate rows\n",
        "no_of_duplicates = df.duplicated().sum()\n",
        "df = df.drop_duplicates()\n",
        "print(f\"Number of duplicate rows removed: {no_of_duplicates}\")"
      ],
      "metadata": {
        "colab": {
          "base_uri": "https://localhost:8080/"
        },
        "id": "cDvJ4q3yct0g",
        "outputId": "acbec2ad-c91d-4f43-e19e-d01ec0f2dae9"
      },
      "execution_count": 4,
      "outputs": [
        {
          "output_type": "stream",
          "name": "stdout",
          "text": [
            "Number of duplicate rows removed: 24206\n"
          ]
        }
      ]
    },
    {
      "cell_type": "markdown",
      "source": [
        "# **Class Balancing**"
      ],
      "metadata": {
        "id": "qC4W3SwleZYJ"
      }
    },
    {
      "cell_type": "code",
      "source": [
        "# Define target variable\n",
        "target_col = \"Diabetes_binary\"\n",
        "X = df.drop(columns=[target_col])  # Features\n",
        "y = df[target_col]  # Target variable\n",
        "\n",
        "# Check class distribution before balancing\n",
        "print(\"\\nClass Distribution Before Balancing:\")\n",
        "print(y.value_counts(), \"\\n\")\n",
        "\n",
        "# Apply Random Undersampling to balance the dataset\n",
        "undersampler = RandomUnderSampler(random_state=42)\n",
        "X_resampled, y_resampled = undersampler.fit_resample(X, y)\n",
        "\n",
        "# Convert back to DataFrame\n",
        "df_balanced = pd.DataFrame(X_resampled, columns=X.columns)\n",
        "df_balanced[target_col] = y_resampled  # Add target column back\n",
        "\n",
        "print(\"Dataset balanced using Random Undersampling. \\nNew class distribution:\")\n",
        "print(df_balanced[target_col].value_counts())"
      ],
      "metadata": {
        "colab": {
          "base_uri": "https://localhost:8080/"
        },
        "id": "ZgGyRTcleT0d",
        "outputId": "7d32c2d9-e589-434d-c6f4-78ee0a90ac2e"
      },
      "execution_count": 5,
      "outputs": [
        {
          "output_type": "stream",
          "name": "stdout",
          "text": [
            "\n",
            "Class Distribution Before Balancing:\n",
            "Diabetes_binary\n",
            "0    194377\n",
            "1     35097\n",
            "Name: count, dtype: int64 \n",
            "\n",
            "Dataset balanced using Random Undersampling. \n",
            "New class distribution:\n",
            "Diabetes_binary\n",
            "0    35097\n",
            "1    35097\n",
            "Name: count, dtype: int64\n"
          ]
        }
      ]
    },
    {
      "cell_type": "markdown",
      "source": [
        "# **Visualization**"
      ],
      "metadata": {
        "id": "J6_2WeeGgv3_"
      }
    },
    {
      "cell_type": "code",
      "source": [
        " # Plot class distribution after balancing\n",
        "plt.figure(figsize=(6, 4))\n",
        "sns.barplot(x=df_balanced[target_col].value_counts().index,\n",
        "            y=df_balanced[target_col].value_counts().values,\n",
        "            palette=\"viridis\", hue = df_balanced[target_col].value_counts().index)\n",
        "plt.xlabel(\"Diabetes Class (0 = No Diabetes, 1 = Diabetes)\")\n",
        "plt.ylabel(\"Number of Samples\")\n",
        "plt.title(\"Class Distribution After Undersampling\")\n",
        "plt.show()\n",
        "\n",
        "# Display the first few rows of the cleaned and processed dataset\n",
        "df_balanced.head()"
      ],
      "metadata": {
        "id": "a2OtNphAekkh"
      },
      "execution_count": null,
      "outputs": []
    },
    {
      "cell_type": "markdown",
      "source": [
        "# **Standardization**"
      ],
      "metadata": {
        "id": "KjoKh9fJf_A-"
      }
    },
    {
      "cell_type": "code",
      "source": [
        "# Identify numerical columns (excluding categorical features)\n",
        "num_cols = [\"BMI\", \"MentHlth\", \"PhysHlth\", \"Age\", \"Education\", \"Income\"]\n",
        "\n",
        "# Standardize numerical features\n",
        "scaler = StandardScaler()\n",
        "df_balanced[num_cols] = scaler.fit_transform(df_balanced[num_cols])\n",
        "\n",
        "print(\"Numerical features standardized.\")\n",
        "print(\"Rows affected: \", num_cols)\n",
        "\n",
        "# Split dataset into training and testing sets\n",
        "X_train, X_test, y_train, y_test = train_test_split(df_balanced.drop(columns=[target_col]),\n",
        "                                                    df_balanced[target_col],\n",
        "                                                    test_size=0.2,\n",
        "                                                    random_state=42)\n",
        "\n",
        "print(\"\\nData split into training and testing sets.\")"
      ],
      "metadata": {
        "colab": {
          "base_uri": "https://localhost:8080/"
        },
        "id": "sXzNyX_Kf864",
        "outputId": "513864e0-ffa4-4952-f253-6aa74edd8908"
      },
      "execution_count": 6,
      "outputs": [
        {
          "output_type": "stream",
          "name": "stdout",
          "text": [
            "Numerical features standardized.\n",
            "Rows affected:  ['BMI', 'MentHlth', 'PhysHlth', 'Age', 'Education', 'Income']\n",
            "\n",
            "Data split into training and testing sets.\n"
          ]
        }
      ]
    },
    {
      "cell_type": "markdown",
      "source": [
        "# **Feature Importance**"
      ],
      "metadata": {
        "id": "fo-St3MeHES8"
      }
    },
    {
      "cell_type": "markdown",
      "source": [
        "**Get Top Features**"
      ],
      "metadata": {
        "id": "XWU42e4xdPUe"
      }
    },
    {
      "cell_type": "code",
      "source": [
        "print(\"\\nCalculating Feature Importance using Random Forest...\")\n",
        "\n",
        "# Train a Random Forest model\n",
        "rf = RandomForestClassifier(random_state=42)\n",
        "rf.fit(X_train, y_train)\n",
        "\n",
        "# Get feature importances\n",
        "importances = rf.feature_importances_\n",
        "feature_names = X_train.columns\n",
        "\n",
        "# Create DataFrame for feature importance\n",
        "feature_importance_df = pd.DataFrame({'Feature': feature_names, 'Importance': importances})\n",
        "feature_importance_df = feature_importance_df.sort_values(by='Importance', ascending=False)\n",
        "\n",
        "# Select top N features (e.g., 10)\n",
        "top_features = feature_importance_df.iloc[:10]['Feature'].values\n",
        "X_train_FI = X_train[top_features]\n",
        "X_test_FI = X_test[top_features]\n",
        "\n",
        "# Display top 10 features\n",
        "print(\"\\nTop 10 Most Important Features:\\n\")\n",
        "print(feature_importance_df.head(10))"
      ],
      "metadata": {
        "colab": {
          "base_uri": "https://localhost:8080/"
        },
        "id": "_lG-FQlDHIbp",
        "outputId": "070bbbda-8ed2-455e-d60d-b4eee795ebbd"
      },
      "execution_count": 7,
      "outputs": [
        {
          "output_type": "stream",
          "name": "stdout",
          "text": [
            "\n",
            "Calculating Feature Importance using Random Forest...\n",
            "\n",
            "Top 10 Most Important Features:\n",
            "\n",
            "      Feature  Importance\n",
            "3         BMI    0.171804\n",
            "18        Age    0.128894\n",
            "13    GenHlth    0.091159\n",
            "20     Income    0.087525\n",
            "0      HighBP    0.072561\n",
            "15   PhysHlth    0.071282\n",
            "19  Education    0.061510\n",
            "14   MentHlth    0.053762\n",
            "1    HighChol    0.039219\n",
            "4      Smoker    0.030037\n"
          ]
        }
      ]
    },
    {
      "cell_type": "markdown",
      "source": [
        "**Visualization**"
      ],
      "metadata": {
        "id": "1K5uUqgHUAGP"
      }
    },
    {
      "cell_type": "code",
      "source": [
        "# Plot\n",
        "sns.barplot(x=feature_importance_df.Importance, y=feature_importance_df.Feature)\n",
        "plt.xlabel(\"Coefficient Magnitude\")\n",
        "plt.ylabel(\"Feature\")\n",
        "plt.title(\"Feature Importance\")\n",
        "plt.show()"
      ],
      "metadata": {
        "colab": {
          "base_uri": "https://localhost:8080/",
          "height": 472
        },
        "id": "skueUFmPUCUk",
        "outputId": "ed303037-ac50-4e63-a8e4-b915a96a689a"
      },
      "execution_count": 8,
      "outputs": [
        {
          "output_type": "display_data",
          "data": {
            "text/plain": [
              "<Figure size 640x480 with 1 Axes>"
            ],
            "image/png": "[encoded data removed]"
          },
          "metadata": {}
        }
      ]
    },
    {
      "cell_type": "markdown",
      "source": [
        "# **PCA on FI**"
      ],
      "metadata": {
        "id": "VlWr8AFPU41t"
      }
    },
    {
      "cell_type": "markdown",
      "source": [
        "**Perform PCA on important features**"
      ],
      "metadata": {
        "id": "_AxucbQ0WgBt"
      }
    },
    {
      "cell_type": "code",
      "source": [
        "from sklearn.decomposition import PCA\n",
        "from sklearn.preprocessing import StandardScaler\n",
        "\n",
        "# Standardize the features\n",
        "scaler = StandardScaler()\n",
        "X_train_scaled = scaler.fit_transform(X_train_FI)\n",
        "X_test_scaled = scaler.transform(X_test_FI)\n",
        "\n",
        "# Apply PCA (you can specify n_components based on variance explained)\n",
        "pca = PCA(n_components=0.95)  # Retain 95% of variance\n",
        "X_train_pca_fi = pca.fit_transform(X_train_scaled)\n",
        "X_test_pca_fi = pca.transform(X_test_scaled)\n",
        "\n",
        "# Check explained variance\n",
        "explained_variance = pca.explained_variance_ratio_\n",
        "sum = 0\n",
        "for i in explained_variance :\n",
        "    sum= sum + i\n",
        "\n",
        "print(\"Explained Variance Ratio:\", explained_variance)\n",
        "print(\"Variance sum:\", sum)\n",
        "print(\"Number of Components Selected:\", pca.n_components_)"
      ],
      "metadata": {
        "colab": {
          "base_uri": "https://localhost:8080/"
        },
        "id": "BJwqjHg0U8K-",
        "outputId": "d952b213-8a85-4d3c-cec0-c8e13519b3a9"
      },
      "execution_count": 9,
      "outputs": [
        {
          "output_type": "stream",
          "name": "stdout",
          "text": [
            "Explained Variance Ratio: [0.25887224 0.14098042 0.11527241 0.10151225 0.09041414 0.07649723\n",
            " 0.06473804 0.05648534 0.05328981]\n",
            "Variance sum: 0.9580618877837052\n",
            "Number of Components Selected: 9\n"
          ]
        }
      ]
    },
    {
      "cell_type": "markdown",
      "source": [
        "**Scree Plot**"
      ],
      "metadata": {
        "id": "OAIi3mi-WSVE"
      }
    },
    {
      "cell_type": "code",
      "source": [
        "#Shows how much variance each principal component explains\n",
        "plt.figure(figsize=(8,5))\n",
        "plt.plot(range(1, len(explained_variance) + 1), explained_variance, marker='o', linestyle='--')\n",
        "plt.xlabel('Principal Component')\n",
        "plt.ylabel('Explained Variance Ratio')\n",
        "plt.title('Scree Plot')\n",
        "plt.show()"
      ],
      "metadata": {
        "colab": {
          "base_uri": "https://localhost:8080/",
          "height": 0
        },
        "id": "tCsnf5z1WHQR",
        "outputId": "f0a2adc2-519a-43f5-91c5-09de93f65299"
      },
      "execution_count": 10,
      "outputs": [
        {
          "output_type": "display_data",
          "data": {
            "text/plain": [
              "<Figure size 800x500 with 1 Axes>"
            ],
            "image/png": "[encoded data removed]"
          },
          "metadata": {}
        }
      ]
    },
    {
      "cell_type": "markdown",
      "source": [
        "# **Principal Component Analysis**"
      ],
      "metadata": {
        "id": "dMuFvKGfXUnC"
      }
    },
    {
      "cell_type": "code",
      "source": [
        "from sklearn.decomposition import PCA\n",
        "import numpy as np\n",
        "\n",
        "# Fit PCA without limiting components\n",
        "pca_full = PCA().fit(X_train)\n",
        "print(\"Total components: \" + str(pca_full.n_components_))\n",
        "\n",
        "# Compute cumulative explained variance\n",
        "cumulative_variance = np.cumsum(pca_full.explained_variance_ratio_)\n",
        "\n",
        "# Find the number of components that retain at least 95% variance\n",
        "n_components_95 = np.argmax(cumulative_variance >= 0.95) + 1  # +1 since index starts at 0\n",
        "print(f\"Number of components to retain 95% variance: {n_components_95}\")\n",
        "\n",
        "# Apply PCA with optimal number of components\n",
        "pca = PCA(n_components=n_components_95)\n",
        "X_train_pca = pca.fit_transform(X_train)\n",
        "X_test_pca = pca.transform(X_test)\n",
        "\n",
        "# Check total variance retained\n",
        "total_variance_retained = np.sum(pca.explained_variance_ratio_)\n",
        "print(f\"Total variance retained: {total_variance_retained:.2f}\")"
      ],
      "metadata": {
        "colab": {
          "base_uri": "https://localhost:8080/"
        },
        "id": "0-l2V7YJXaCs",
        "outputId": "9d8370ea-378e-4f6c-b739-3c977f01e36b"
      },
      "execution_count": 11,
      "outputs": [
        {
          "output_type": "stream",
          "name": "stdout",
          "text": [
            "Total components: 21\n",
            "Number of components to retain 95% variance: 15\n",
            "Total variance retained: 0.96\n"
          ]
        }
      ]
    },
    {
      "cell_type": "markdown",
      "source": [
        "# **Model Training and Evaluation**\n"
      ],
      "metadata": {
        "id": "5c33wd7Di5Zk"
      }
    },
    {
      "cell_type": "markdown",
      "source": [
        "**Model and Dataset Definition**"
      ],
      "metadata": {
        "id": "M3NCO7XRit7M"
      }
    },
    {
      "cell_type": "code",
      "source": [
        "# Define datasets\n",
        "datasets = {\n",
        "    \"Original\": (X_train, X_test),\n",
        "    \"Feature Importance\": (X_train_FI, X_test_FI),\n",
        "    \"PCA\": (X_train_pca, X_test_pca),\n",
        "    \"PCA + Feature Importance\": (X_train_pca_fi, X_test_pca_fi)\n",
        "}\n",
        "\n",
        "# Define models\n",
        "models = {\n",
        "    \"Gaussian Process Classifier\": GaussianProcessClassifier(),\n",
        "    \"Logistic Regression\": LogisticRegression(),\n",
        "    \"Random Forest\": RandomForestClassifier(),\n",
        "    \"Support Vector Machine\": SVC(probability=True),\n",
        "    \"Gradient Boosting Classifier\": GradientBoostingClassifier()\n",
        "}\n",
        "\n",
        "# Store results\n",
        "results = []\n",
        "\n",
        "# Define sampling percentage for Gaussian Process Classifier due to computational needs\n",
        "gpc_sample_pct = 0.10\n",
        "print(\"\\Models defined\")"
      ],
      "metadata": {
        "id": "Phl256tai0ee",
        "colab": {
          "base_uri": "https://localhost:8080/"
        },
        "outputId": "412df93b-258c-4074-d9cb-7815d99bb16f"
      },
      "execution_count": 12,
      "outputs": [
        {
          "output_type": "stream",
          "name": "stdout",
          "text": [
            "\n",
            "Training and Evaluating Models...\n"
          ]
        }
      ]
    },
    {
      "cell_type": "markdown",
      "source": [
        "**Models Execution**"
      ],
      "metadata": {
        "id": "Jhc-NVYHhIR6"
      }
    },
    {
      "cell_type": "code",
      "source": [
        "# Iterate through datasets and models\n",
        "for dataset_name, (X_tr, X_te) in datasets.items():\n",
        "    for model_name, model in models.items():\n",
        "        start_time = time.time()\n",
        "\n",
        "        # If Gaussian Process Classifier, sample 10% of the data while keeping class balance\n",
        "        if model_name == \"Gaussian Process Classifier\":\n",
        "            X_tr_sampled, y_tr_sampled = resample(\n",
        "                X_tr, y_train,\n",
        "                replace=False,\n",
        "                stratify=y_train,\n",
        "                n_samples=int(len(X_tr) * gpc_sample_pct),\n",
        "                random_state=42\n",
        "            )\n",
        "        else:\n",
        "            X_tr_sampled, y_tr_sampled = X_tr, y_train\n",
        "\n",
        "        # Train model\n",
        "        model.fit(X_tr_sampled, y_tr_sampled)\n",
        "        y_pred = model.predict(X_te)\n",
        "        y_prob = model.predict_proba(X_te)[:, 1] if hasattr(model, \"predict_proba\") else None\n",
        "\n",
        "        # Evaluate metrics\n",
        "        accuracy = accuracy_score(y_test, y_pred)\n",
        "        precision = precision_score(y_test, y_pred)\n",
        "        recall = recall_score(y_test, y_pred)\n",
        "        f1 = f1_score(y_test, y_pred)\n",
        "        auc = roc_auc_score(y_test, y_prob) if y_prob is not None else None\n",
        "        execution_time = time.time() - start_time\n",
        "\n",
        "        # Store result\n",
        "        results.append({\n",
        "            \"Model\": f\"{dataset_name} - {model_name}\",\n",
        "            \"Accuracy\": accuracy,\n",
        "            \"Precision\": precision,\n",
        "            \"Recall\": recall,\n",
        "            \"F1 Score\": f1,\n",
        "            \"AUC-ROC\": auc,\n",
        "            \"Time (s)\": execution_time\n",
        "        })"
      ],
      "metadata": {
        "id": "O78o1HhMDYlM"
      },
      "execution_count": null,
      "outputs": []
    },
    {
      "cell_type": "markdown",
      "source": [
        "**Model Results**"
      ],
      "metadata": {
        "id": "yzyCTRf2hQAe"
      }
    },
    {
      "cell_type": "code",
      "source": [
        "# Convert to DataFrame\n",
        "results_df = pd.DataFrame(results)\n",
        "\n",
        "# Save to CSV\n",
        "results_df.to_csv(\"model_evaluation_results.csv\", index=False)\n",
        "\n",
        "print(\"Model evaluation complete. Results saved to 'model_evaluation_results.csv'.\")"
      ],
      "metadata": {
        "id": "2Xe_2P-8hPqP"
      },
      "execution_count": null,
      "outputs": []
    },
    {
      "cell_type": "markdown",
      "source": [
        "# **Results**"
      ],
      "metadata": {
        "id": "dzitIg-yjShl"
      }
    },
    {
      "cell_type": "code",
      "source": [
        "# Display results\n",
        "print(\"Model Performance Metrics:\\n\", results_df)\n",
        "\n",
        "# ------------------------- VISUALIZATION -------------------------\n",
        "\n",
        "# Plot model performance\n",
        "fig, axes = plt.subplots(2, 2, figsize=(12, 10))\n",
        "axes = axes.flatten()\n",
        "metrics = [\"Accuracy\", \"Precision\", \"Recall\", \"F1-score\"]\n",
        "\n",
        "for i, metric in enumerate(metrics):\n",
        "    sns.barplot(x=results_df.index, y=results_df[metric], ax=axes[i], hue=results_df.index, palette=\"coolwarm\", legend=False)\n",
        "    axes[i].set_title(f\"{metric} Comparison\")\n",
        "    axes[i].set_ylabel(metric)\n",
        "    axes[i].set_xticks(range(len(results_df.index)))\n",
        "    axes[i].set_xticklabels(results_df.index, rotation=45)\n",
        "\n",
        "plt.tight_layout()\n",
        "plt.show()\n",
        "\n",
        "# Display classification reports for each model\n",
        "for name, model in models.items():\n",
        "    print(f\"\\nClassification Report for {name}:\\n\")\n",
        "    print(classification_report(y_test, model.predict(X_test)))"
      ],
      "metadata": {
        "id": "TPqD8IJkjXHn"
      },
      "execution_count": null,
      "outputs": []
    },
    {
      "cell_type": "markdown",
      "source": [
        "# **Hyperparmeter Tuning on Select Models(Gausian Process Classifier and Logistic Regression)**"
      ],
      "metadata": {
        "id": "LffFcEp0jZSb"
      }
    },
    {
      "cell_type": "code",
      "source": [
        "# Define hyperparameter grids\n",
        "param_grid_gpc = {\n",
        "    'max_iter_predict': [50, 100, 200],\n",
        "    'multi_class': ['one_vs_rest']\n",
        "}\n",
        "\n",
        "param_grid_lr = {\n",
        "    'C': [0.01, 0.1, 1, 10, 100],\n",
        "    'solver': ['liblinear', 'lbfgs', 'saga']\n",
        "}\n",
        "\n",
        "# Hyperparameter tuning for Gaussian Process Classifier\n",
        "gpc = GaussianProcessClassifier()\n",
        "gpc_search = RandomizedSearchCV(gpc, param_grid_gpc, n_iter=5, cv=3, scoring='accuracy', random_state=42, n_jobs=-1)\n",
        "gpc_search.fit(X_train, y_train)\n",
        "best_gpc = gpc_search.best_estimator_\n",
        "print(\"Best Parameters for Gaussian Process Classifier:\", gpc_search.best_params_)\n",
        "\n",
        "# Hyperparameter tuning for Logistic Regression\n",
        "lr = LogisticRegression()\n",
        "lr_search = RandomizedSearchCV(lr, param_grid_lr, n_iter=5, cv=3, scoring='accuracy', random_state=42, n_jobs=-1)\n",
        "lr_search.fit(X_train, y_train)\n",
        "best_lr = lr_search.best_estimator_\n",
        "print(\"Best Parameters for Logistic Regression:\", lr_search.best_params_)\n",
        "\n",
        "# Evaluate tuned models\n",
        "def evaluate_model(model, X_test, y_test):\n",
        "    y_pred = model.predict(X_test)\n",
        "    y_pred_proba = model.predict_proba(X_test)[:, 1]\n",
        "    return {\n",
        "        \"Accuracy\": accuracy_score(y_test, y_pred),\n",
        "        \"Precision\": precision_score(y_test, y_pred),\n",
        "        \"Recall\": recall_score(y_test, y_pred),\n",
        "        \"F1-score\": f1_score(y_test, y_pred),\n",
        "        \"ROC-AUC\": roc_auc_score(y_test, y_pred_proba)\n",
        "    }\n",
        "\n",
        "# Store results\n",
        "results_tuned = {\n",
        "    \"Gaussian Process Classifier (Tuned)\": evaluate_model(best_gpc, X_test, y_test),\n",
        "    \"Logistic Regression (Tuned)\": evaluate_model(best_lr, X_test, y_test)\n",
        "}\n",
        "\n",
        "# Convert results to DataFrame\n",
        "results_tuned_df = pd.DataFrame(results_tuned).T\n",
        "print(\"Tuned Model Performance:\\n\", results_tuned_df)"
      ],
      "metadata": {
        "id": "e8p-rbNdjZCN"
      },
      "execution_count": null,
      "outputs": []
    },
    {
      "cell_type": "markdown",
      "source": [
        "# **Post-Tuning Results**"
      ],
      "metadata": {
        "id": "ncLiLqPpuQVQ"
      }
    },
    {
      "cell_type": "code",
      "source": [
        "print (results_df, \"\\n\\n\",results_tuned_df)"
      ],
      "metadata": {
        "colab": {
          "base_uri": "https://localhost:8080/"
        },
        "id": "DRRxueIDsTMX",
        "outputId": "bad41d4b-8459-4a73-efbf-05ff72ea8b4f"
      },
      "execution_count": null,
      "outputs": [
        {
          "output_type": "stream",
          "name": "stdout",
          "text": [
            "                              Accuracy  Precision  Recall  F1-score   ROC-AUC  \\\n",
            "Gaussian Process Classifier     0.7515   0.728015   0.803  0.763671  0.799165   \n",
            "Logistic Regression             0.7505   0.736544   0.780  0.757649  0.818801   \n",
            "Random Forest                   0.7540   0.737383   0.789  0.762319  0.834365   \n",
            "Support Vector Machine          0.7530   0.727110   0.810  0.766320  0.820730   \n",
            "Gradient Boosting Classifier    0.7480   0.726277   0.796  0.759542  0.821637   \n",
            "\n",
            "                                Time (s)  \n",
            "Gaussian Process Classifier   200.439107  \n",
            "Logistic Regression             0.086803  \n",
            "Random Forest                   1.263047  \n",
            "Support Vector Machine         18.320079  \n",
            "Gradient Boosting Classifier    1.131432   \n",
            "\n",
            "                                      Accuracy  Precision  Recall  F1-score  \\\n",
            "Gaussian Process Classifier (Tuned)    0.7515   0.728015   0.803  0.763671   \n",
            "Logistic Regression (Tuned)            0.7495   0.736493   0.777  0.756204   \n",
            "\n",
            "                                      ROC-AUC  \n",
            "Gaussian Process Classifier (Tuned)  0.799165  \n",
            "Logistic Regression (Tuned)          0.819067  \n"
          ]
        }
      ]
    }
  ]
}