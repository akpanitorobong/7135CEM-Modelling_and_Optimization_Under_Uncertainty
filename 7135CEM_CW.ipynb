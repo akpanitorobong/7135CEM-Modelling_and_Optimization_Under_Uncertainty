{
  "nbformat": 4,
  "nbformat_minor": 0,
  "metadata": {
    "colab": {
      "provenance": [],
      "authorship_tag": "ABX9TyMZl5l4lsMM8agVkJUBJlKj",
      "include_colab_link": true
    },
    "kernelspec": {
      "name": "python3",
      "display_name": "Python 3"
    },
    "language_info": {
      "name": "python"
    }
  },
  "cells": [
    {
      "cell_type": "markdown",
      "metadata": {
        "id": "view-in-github",
        "colab_type": "text"
      },
      "source": [
        "<a href=\"https://colab.research.google.com/github/akpanitorobong/7135CEM-Modelling_and_Optimization_Under_Uncertainty/blob/main/7135CEM_CW.ipynb\" target=\"_parent\"><img src=\"https://colab.research.google.com/assets/colab-badge.svg\" alt=\"Open In Colab\"/></a>"
      ]
    },
    {
      "cell_type": "markdown",
      "source": [
        "# **Document Preparation**"
      ],
      "metadata": {
        "id": "O4Wg_eXD3R3A"
      }
    },
    {
      "cell_type": "markdown",
      "source": [
        "**Necessay Imports**"
      ],
      "metadata": {
        "id": "YBtQM_nU3bTq"
      }
    },
    {
      "cell_type": "code",
      "execution_count": 1,
      "metadata": {
        "id": "5eB70_oii9RI",
        "outputId": "4250aace-8d4c-49ad-d630-8b59eef0578b",
        "colab": {
          "base_uri": "https://localhost:8080/"
        }
      },
      "outputs": [
        {
          "output_type": "stream",
          "name": "stdout",
          "text": [
            "Collecting ucimlrepo\n",
            "  Downloading ucimlrepo-0.0.7-py3-none-any.whl.metadata (5.5 kB)\n",
            "Requirement already satisfied: pandas>=1.0.0 in /usr/local/lib/python3.11/dist-packages (from ucimlrepo) (2.2.2)\n",
            "Requirement already satisfied: certifi>=2020.12.5 in /usr/local/lib/python3.11/dist-packages (from ucimlrepo) (2025.1.31)\n",
            "Requirement already satisfied: numpy>=1.23.2 in /usr/local/lib/python3.11/dist-packages (from pandas>=1.0.0->ucimlrepo) (1.26.4)\n",
            "Requirement already satisfied: python-dateutil>=2.8.2 in /usr/local/lib/python3.11/dist-packages (from pandas>=1.0.0->ucimlrepo) (2.8.2)\n",
            "Requirement already satisfied: pytz>=2020.1 in /usr/local/lib/python3.11/dist-packages (from pandas>=1.0.0->ucimlrepo) (2025.1)\n",
            "Requirement already satisfied: tzdata>=2022.7 in /usr/local/lib/python3.11/dist-packages (from pandas>=1.0.0->ucimlrepo) (2025.1)\n",
            "Requirement already satisfied: six>=1.5 in /usr/local/lib/python3.11/dist-packages (from python-dateutil>=2.8.2->pandas>=1.0.0->ucimlrepo) (1.17.0)\n",
            "Downloading ucimlrepo-0.0.7-py3-none-any.whl (8.0 kB)\n",
            "Installing collected packages: ucimlrepo\n",
            "Successfully installed ucimlrepo-0.0.7\n"
          ]
        }
      ],
      "source": [
        "pip install ucimlrepo"
      ]
    },
    {
      "cell_type": "markdown",
      "source": [
        "**Get Datasets**"
      ],
      "metadata": {
        "id": "_uBKMzOH3fun"
      }
    },
    {
      "cell_type": "code",
      "source": [
        "from ucimlrepo import fetch_ucirepo\n",
        "\n",
        "# fetch dataset\n",
        "cdc_diabetes_health_indicators = fetch_ucirepo(id=891)\n",
        "\n",
        "# data (as pandas dataframes)\n",
        "X = cdc_diabetes_health_indicators.data.features\n",
        "y = cdc_diabetes_health_indicators.data.targets\n",
        "\n",
        "print(X.head())\n",
        "print(y.head())"
      ],
      "metadata": {
        "id": "9lWNqPkN2rsy",
        "outputId": "8858010d-1ee6-400c-b619-1451d8a1b219",
        "colab": {
          "base_uri": "https://localhost:8080/"
        }
      },
      "execution_count": 3,
      "outputs": [
        {
          "output_type": "stream",
          "name": "stdout",
          "text": [
            "   HighBP  HighChol  CholCheck  BMI  Smoker  Stroke  HeartDiseaseorAttack  \\\n",
            "0       1         1          1   40       1       0                     0   \n",
            "1       0         0          0   25       1       0                     0   \n",
            "2       1         1          1   28       0       0                     0   \n",
            "3       1         0          1   27       0       0                     0   \n",
            "4       1         1          1   24       0       0                     0   \n",
            "\n",
            "   PhysActivity  Fruits  Veggies  ...  AnyHealthcare  NoDocbcCost  GenHlth  \\\n",
            "0             0       0        1  ...              1            0        5   \n",
            "1             1       0        0  ...              0            1        3   \n",
            "2             0       1        0  ...              1            1        5   \n",
            "3             1       1        1  ...              1            0        2   \n",
            "4             1       1        1  ...              1            0        2   \n",
            "\n",
            "   MentHlth  PhysHlth  DiffWalk  Sex  Age  Education  Income  \n",
            "0        18        15         1    0    9          4       3  \n",
            "1         0         0         0    0    7          6       1  \n",
            "2        30        30         1    0    9          4       8  \n",
            "3         0         0         0    0   11          3       6  \n",
            "4         3         0         0    0   11          5       4  \n",
            "\n",
            "[5 rows x 21 columns]\n",
            "   Diabetes_binary\n",
            "0                0\n",
            "1                0\n",
            "2                0\n",
            "3                0\n",
            "4                0\n"
          ]
        }
      ]
    },
    {
      "cell_type": "markdown",
      "source": [],
      "metadata": {
        "id": "7TFA1m-33nqZ"
      }
    }
  ]
}